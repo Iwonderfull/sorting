{
 "cells": [
  {
   "cell_type": "markdown",
   "id": "31c79776-a8da-4755-9ac5-49326d2a8002",
   "metadata": {},
   "source": [
    "### Установка пакетов"
   ]
  },
  {
   "cell_type": "code",
   "execution_count": 1,
   "id": "5981d189-dcc6-48a0-9706-df544241f7f0",
   "metadata": {},
   "outputs": [
    {
     "name": "stdout",
     "output_type": "stream",
     "text": [
      "Requirement already satisfied: pandas in c:\\users\\tzeen\\appdata\\local\\programs\\python\\python312\\lib\\site-packages (2.2.1)\n",
      "Requirement already satisfied: matplotlib in c:\\users\\tzeen\\appdata\\local\\programs\\python\\python312\\lib\\site-packages (3.8.3)\n",
      "Requirement already satisfied: seaborn in c:\\users\\tzeen\\appdata\\local\\programs\\python\\python312\\lib\\site-packages (0.13.2)\n",
      "Requirement already satisfied: openpyxl in c:\\users\\tzeen\\appdata\\local\\programs\\python\\python312\\lib\\site-packages (3.1.2)\n",
      "Requirement already satisfied: faker in c:\\users\\tzeen\\appdata\\local\\programs\\python\\python312\\lib\\site-packages (24.2.0)\n",
      "Requirement already satisfied: xlsxwriter in c:\\users\\tzeen\\appdata\\local\\programs\\python\\python312\\lib\\site-packages (3.2.0)\n",
      "Requirement already satisfied: numpy<2,>=1.26.0 in c:\\users\\tzeen\\appdata\\local\\programs\\python\\python312\\lib\\site-packages (from pandas) (1.26.4)\n",
      "Requirement already satisfied: python-dateutil>=2.8.2 in c:\\users\\tzeen\\appdata\\local\\programs\\python\\python312\\lib\\site-packages (from pandas) (2.9.0.post0)\n",
      "Requirement already satisfied: pytz>=2020.1 in c:\\users\\tzeen\\appdata\\local\\programs\\python\\python312\\lib\\site-packages (from pandas) (2024.1)\n",
      "Requirement already satisfied: tzdata>=2022.7 in c:\\users\\tzeen\\appdata\\local\\programs\\python\\python312\\lib\\site-packages (from pandas) (2024.1)\n",
      "Requirement already satisfied: contourpy>=1.0.1 in c:\\users\\tzeen\\appdata\\local\\programs\\python\\python312\\lib\\site-packages (from matplotlib) (1.2.0)\n",
      "Requirement already satisfied: cycler>=0.10 in c:\\users\\tzeen\\appdata\\local\\programs\\python\\python312\\lib\\site-packages (from matplotlib) (0.12.1)\n",
      "Requirement already satisfied: fonttools>=4.22.0 in c:\\users\\tzeen\\appdata\\local\\programs\\python\\python312\\lib\\site-packages (from matplotlib) (4.49.0)\n",
      "Requirement already satisfied: kiwisolver>=1.3.1 in c:\\users\\tzeen\\appdata\\local\\programs\\python\\python312\\lib\\site-packages (from matplotlib) (1.4.5)\n",
      "Requirement already satisfied: packaging>=20.0 in c:\\users\\tzeen\\appdata\\local\\programs\\python\\python312\\lib\\site-packages (from matplotlib) (24.0)\n",
      "Requirement already satisfied: pillow>=8 in c:\\users\\tzeen\\appdata\\local\\programs\\python\\python312\\lib\\site-packages (from matplotlib) (10.2.0)\n",
      "Requirement already satisfied: pyparsing>=2.3.1 in c:\\users\\tzeen\\appdata\\local\\programs\\python\\python312\\lib\\site-packages (from matplotlib) (3.1.2)\n",
      "Requirement already satisfied: et-xmlfile in c:\\users\\tzeen\\appdata\\local\\programs\\python\\python312\\lib\\site-packages (from openpyxl) (1.1.0)\n",
      "Requirement already satisfied: six>=1.5 in c:\\users\\tzeen\\appdata\\local\\programs\\python\\python312\\lib\\site-packages (from python-dateutil>=2.8.2->pandas) (1.16.0)\n",
      "Note: you may need to restart the kernel to use updated packages.\n"
     ]
    }
   ],
   "source": [
    "%pip install pandas matplotlib seaborn openpyxl faker xlsxwriter"
   ]
  },
  {
   "cell_type": "code",
   "execution_count": 2,
   "id": "d6a14629-9a38-4a14-a74b-7c23dc1aa0a6",
   "metadata": {},
   "outputs": [],
   "source": [
    "from datetime import datetime, timedelta\n",
    "from faker import Faker \n",
    "import pandas as pd\n",
    "import csv\n",
    "import matplotlib.pyplot as plt\n",
    "import random\n",
    "import openpyxl\n",
    "import seaborn as sns\n",
    "import numpy as np\n",
    "import os\n",
    "import datetime\n",
    "from dateutil.relativedelta import relativedelta"
   ]
  },
  {
   "cell_type": "markdown",
   "id": "28a9a786-07d9-4555-9ea7-fe8259d0f6ce",
   "metadata": {},
   "source": [
    "### Настройка окружения"
   ]
  },
  {
   "cell_type": "code",
   "execution_count": 3,
   "id": "b7fa936f-b87f-4c39-842a-a2f8021aad63",
   "metadata": {},
   "outputs": [],
   "source": [
    "fake = Faker()\n",
    "dt_specie = pd.read_excel(\"C:/Users/tzeen/DataFiles/specie_data.xlsx\")\n",
    "dt_post = pd.read_excel(\"C:/Users/tzeen/DataFiles/post_data.xlsx\")"
   ]
  },
  {
   "cell_type": "code",
   "execution_count": 4,
   "id": "51ff38f7-5216-41e8-8bfd-03944a50646c",
   "metadata": {},
   "outputs": [
    {
     "name": "stdout",
     "output_type": "stream",
     "text": [
      "<class 'pandas.core.frame.DataFrame'>\n",
      "RangeIndex: 75 entries, 0 to 74\n",
      "Data columns (total 6 columns):\n",
      " #   Column          Non-Null Count  Dtype  \n",
      "---  ------          --------------  -----  \n",
      " 0   Species         75 non-null     object \n",
      " 1   Adult height    75 non-null     float64\n",
      " 2   Child's height  75 non-null     float64\n",
      " 3   Adult weight    75 non-null     float64\n",
      " 4   Child's weight  75 non-null     float64\n",
      " 5   Lifespan        75 non-null     int64  \n",
      "dtypes: float64(4), int64(1), object(1)\n",
      "memory usage: 3.6+ KB\n",
      "<class 'pandas.core.frame.DataFrame'>\n",
      "RangeIndex: 5 entries, 0 to 4\n",
      "Data columns (total 3 columns):\n",
      " #   Column      Non-Null Count  Dtype \n",
      "---  ------      --------------  ----- \n",
      " 0   post        5 non-null      object\n",
      " 1   min_salary  5 non-null      int64 \n",
      " 2   max_salary  5 non-null      int64 \n",
      "dtypes: int64(2), object(1)\n",
      "memory usage: 252.0+ bytes\n"
     ]
    }
   ],
   "source": [
    "dt_specie.info()\n",
    "dt_post.info()"
   ]
  },
  {
   "cell_type": "code",
   "execution_count": 5,
   "id": "b8505f0b-4fa3-4dca-b93d-0d970c3d1e62",
   "metadata": {},
   "outputs": [
    {
     "data": {
      "text/plain": [
       "array([['cleaners', 50000, 100000],\n",
       "       ['veterinarians', 80000, 140000],\n",
       "       ['trainers', 80000, 140000],\n",
       "       ['construction repairmen', 50000, 100000],\n",
       "       ['administration workers', 60000, 120000]], dtype=object)"
      ]
     },
     "execution_count": 5,
     "metadata": {},
     "output_type": "execute_result"
    }
   ],
   "source": [
    "dt_specie.to_numpy()\n",
    "dt_post.to_numpy()"
   ]
  },
  {
   "cell_type": "markdown",
   "id": "e1a721c4-9fa8-4b18-8039-6103c618b1d4",
   "metadata": {},
   "source": [
    "### Массивы "
   ]
  },
  {
   "cell_type": "code",
   "execution_count": 6,
   "id": "1989bf80-ef14-4d44-b649-c22b76ea6713",
   "metadata": {},
   "outputs": [],
   "source": [
    "# provider\n",
    "companyName_arr = [\"Pet Paradise\", \"Paws and Claws Emporium\", \"Furry Friends Haven\", \"The Critter Corner\",\n",
    "                   \"Whiskers & Wags\", \"Creature Comforts Co.\", \"The Pet Haven\", \"Animal Antics Store\",\n",
    "                   \"Happy Tails Emporium\", \"Paw Prints Boutique\", \"The K9 Kingdom\", \"The Purrfect Place\",\n",
    "                   \"Furball Frenzy\", \"Feathers & Fins Emporium\", \"Pet Palooza Store\", \"Wild Whiskers Shop\",\n",
    "                   \"The Pet Nest\", \"Safari Pets Store\", \"Wags to Whiskers\", \"Critter Craze Corner\", \"The Paw Pad\",\n",
    "                   \"Furry Fins Market\", \"Creature Comfort Co.\", \"The Loyal Companion\", \"Happy Hounds Haven\",\n",
    "                   \"Purrfect Paws Boutique\", \"Animal Magic Store\", \"The Critter Clubhouse\", \"Whisker Wonderland\",\n",
    "                   \"Furry Friends’ Faves\", \"The Pet Stop Shop\", \"Tails & Scales Emporium\", \"Pet Parade Place\",\n",
    "                   \"Wild Wags Market\", \"Feathered Friends Haven\", \"The Pet Patch\", \"Zoo-tastic Store\",\n",
    "                   \"Bark and Meow Emporium\", \"Finned Friends’ Corner\", \"Wagging Whiskers\", \"Pet Central Place\",\n",
    "                   \"Whisker Wonders Shop\", \"Furry Finery Store\", \"The Pet Perch\", \"Tail Waggers’ Emporium\",\n",
    "                   \"Creature Comforts Haven\", \"Happy Howls Boutique\", \"Feathered Frenzy Corner\", \"The Pet Carousel\",\n",
    "                   \"Paws and Scales Emporium\", \"Critter Capers Store\", \"The Pet Zone\", \"Fluffy Friends’ Fun\",\n",
    "                   \"The Jungle Pets Store\", \"Finned Finds Emporium\", \"Wagging Tail Treasures\", \"Paw Prints Emporium\",\n",
    "                   \"The Pet Oasis\", \"Whisker Wonderland Store\", \"Furry Favorites Emporium\", \"ZooGalore\", \"PawsRUs\",\n",
    "                   \"CritterCraze\", \"ThePetPantry\", \"FurEverFriends\", \"WhiskerWorld\", \"PurrFectPlace\", \"WildWagsMart\",\n",
    "                   \"FeatheredFinds\", \"TheCritterClub\", \"HappyTailsHaven\", \"PetParadise\", \"FurryFriendsEmporium\",\n",
    "                   \"AnimalAnticsShop\", \"TailWaggersDelight\", \"ThePetNest\", \"SafariPetSupplies\", \"BarkAndMeowMart\",\n",
    "                   \"WhiskerWonderland\", \"CreatureComfortsCo\", \"PawprintsBoutique\", \"FinsAndFeathersStore\", \"PetPalooza\",\n",
    "                   \"FurballFrenzy\", \"TheHappyHowl\", \"HoundHeaven\", \"MansionOfMeows\", \"BeaksAndSqueaks\",\n",
    "                   \"CritterCarnival\", \"CritterCreations\", \"PawsomePlace\", \"WildWhiskers\", \"FishAndChipsShop\",\n",
    "                   \"PurrfectionStore\", \"PetParlor\", \"WingsAndTails\", \"ThePetStop\", \"FluffyFriendsWorld\",\n",
    "                   \"FeatheredFriendsFantasy\", \"HappyPawsPetStore\", \"FurryFinsCorner\", \"TailsAndWhales\",\n",
    "                   \"PawAndClawCreations\", \"CreatureCommune\", \"NoseToTailTreats\", \"ThePetPatch\",\n",
    "                   \"RainingCatsAndDogsShop\", \"CritterCabana\", \"ExoticCritterCorner\", \"PurrfectPawsPlace\",\n",
    "                   \"AnimalEnchantment\", \"CritterCoveMarket\", \"PetPleasantries\", \"TheRabbitHutch\", \"WildlifeWonderland\",\n",
    "                   \"RoyalReptilesShop\", \"TropicalTreats\", \"CritterCrazyCloset\", \"WhiskerWishes\", \"PawsAndPlay\",\n",
    "                   \"AnimalAlley\", \"CritterComforts\", \"FinsAndFriendship\", \"PawprintsParadise\", \"ThePetPerch\",\n",
    "                   \"TheDoggyDen\", \"ClawAndOrderStore\", \"FurryFortune\", \"WhiskerWagsWarehouse\", \"AvianAvenues\",\n",
    "                   \"BarkBoutique\", \"CritterCarousel\", \"EnchantedEars\", \"ZooZenith\", \"TailsOfJoy\", \"CreatureCollection\",\n",
    "                   \"CritterCubbyhole\", \"ReptileRendezvous\", \"FurryFiesta\", \"PawPleasures\", \"CritterComfort\",\n",
    "                   \"FeatheredFriendsFusion\", \"ThePetPiazza\", \"FinsAndPawsPlaza\", \"WhiskerWorldWide\", \"CritterCottage\",\n",
    "                   \"PawsAndPurrfections\", \"ThePamperedPet\", \"WildWhispers\", \"BirdBazaar\", \"FurryFeathers\",\n",
    "                   \"PurrsAndWhiskers\", \"WaggingTailTreasures\", \"FeatheredFunStore\", \"ThePetOasis\",\n",
    "                   \"TailsAndScalesSanctuary\"]\n",
    "\n",
    "# zoo\n",
    "country = [\"United States\", \"Canada\", \"United Kingdom\", \"Australia\", \"Germany\", \"France\", \"Japan\", \"China\",\n",
    "           \"Brazil\", \"India\", \"Italy\", \"Russia\", \"South Africa\", \"Mexico\", \"Spain\", \"Netherlands\", \"Switzerland\",\n",
    "           \"Sweden\", \"South Korea\", \"Argentina\", \"New Zealand\", \"Norway\", \"Singapore\", \"Ireland\", \"Denmark\",\n",
    "           \"Belgium\", \"Finland\", \"Austria\", \"Chile\", \"Portugal\"]\n",
    "city = [\"New York\", \"Toronto\", \"London\", \"Sydney\", \"Berlin\", \"Paris\", \"Tokyo\", \"Beijing\", \"Sao Paulo\", \"Mumbai\",\n",
    "        \"Rome\", \"Moscow\", \"Cape Town\", \"Mexico City\", \"Madrid\", \"Amsterdam\", \"Zurich\", \"Stockholm\", \"Seoul\",\n",
    "        \"Buenos Aires\", \"Auckland\", \"Oslo\", \"Singapore\", \"Dublin\", \"Copenhagen\", \"Brussels\", \"Helsinki\", \"Vienna\",\n",
    "        \"Santiago\", \"Lisbon\"]\n",
    "zooName = [\"Central Park Zoo\", \"Toronto Zoo\", \"London Zoo\", \"Taronga Zoo\", \"Berlin Zoological Garden\",\n",
    "           \"Paris Zoological Park\", \"Ueno Zoo\", \"Beijing Zoo\", \"Sao Paulo Zoo\", \"Sanjay Gandhi National Park\",\n",
    "           \"Bioparco di Roma\", \"Moscow Zoo\", \"Cape of Good Hope Nature Reserve\", \"Chapultepec Zoo\",\n",
    "           \"Madrid Zoo Aquarium\", \"Artis Amsterdam Royal Zoo\", \"Zoo Zürich\", \"Skansen Open-Air Museum and Zoo\",\n",
    "           \"Seoul Grand Park Zoo\", \"Lujan Zoo\", \"Auckland Zoo\", \"Oslo Reptile Park\", \"Singapore Zoo\", \"Dublin Zoo\",\n",
    "           \"Copenhagen Zoo\", \"Planckendael Zoo\", \"Helsinki Zoo\", \"Tiergarten Schönbrunn Zoo\",\n",
    "           \"Parque Metropolitano de Santiago\", \"Lisbon Zoo\"]\n",
    "\n",
    "# staff\n",
    "name = [\"Abigail\", \"Alexander\", \"Amelia\", \"Andrew\", \"Anna\", \"Anthony\", \"Ava\", \"Benjamin\", \"Charlotte\",\n",
    "        \"Christopher\", \"Claire\", \"Daniel\", \"David\", \"Elizabeth\", \"Emily\", \"Emma\", \"Ethan\", \"Grace\", \"Hannah\",\n",
    "        \"Henry\", \"Isabella\", \"Jacob\", \"James\", \"Joseph\", \"Joshua\", \"Liam\", \"Lily\", \"Lucas\", \"Madison\", \"Mason\",\n",
    "        \"Matthew\", \"Mia\", \"Michael\", \"Natalie\", \"Noah\", \"Oliver\", \"Olivia\", \"Owen\", \"Ryan\", \"Samuel\", \"Sarah\",\n",
    "        \"Sophia\", \"Thomas\", \"Victoria\", \"William\", \"Abigail\", \"Alexander\", \"Amelia\", \"Andrew\", \"Anna\", \"Anthony\",\n",
    "        \"Ava\", \"Benjamin\", \"Charlotte\", \"Christopher\", \"Claire\", \"Daniel\", \"David\", \"Elizabeth\", \"Emily\", \"Emma\",\n",
    "        \"Ethan\", \"Grace\", \"Hannah\", \"Henry\", \"Isabella\", \"Jacob\", \"James\", \"Joseph\", \"Joshua\", \"Liam\", \"Lily\",\n",
    "        \"Lucas\", \"Madison\", \"Mason\", \"Matthew\", \"Mia\", \"Michael\", \"Natalie\", \"Noah\", \"Oliver\", \"Olivia\", \"Owen\",\n",
    "        \"Ryan\", \"Samuel\", \"Sarah\", \"Sophia\", \"Thomas\", \"Victoria\", \"William\", \"Abigail\", \"Alexander\", \"Amelia\",\n",
    "        \"Andrew\", \"Anna\", \"Anthony\", \"Ava\", \"Benjamin\", \"Charlotte\", \"Christopher\", \"Claire\", \"Daniel\", \"David\",\n",
    "        \"Elizabeth\", \"Emily\", \"Emma\", \"Ethan\", \"Grace\", \"Hannah\", \"Henry\", \"Isabella\", \"Jacob\", \"James\", \"Joseph\",\n",
    "        \"Joshua\", \"Liam\", \"Lily\", \"Lucas\", \"Madison\", \"Mason\", \"Matthew\", \"Mia\", \"Michael\", \"Natalie\", \"Noah\",\n",
    "        \"Oliver\", \"Olivia\", \"Owen\", \"Ryan\", \"Samuel\", \"Sarah\", \"Sophia\", \"Thomas\", \"Victoria\", \"William\",\n",
    "        \"Alexandra\", \"Alice\", \"Amber\", \"Ashley\", \"Audrey\", \"Austin\", \"Avery\", \"Brandon\", \"Brian\", \"Brooklyn\",\n",
    "        \"Caleb\", \"Caroline\", \"Chloe\", \"Christian\", \"Christopher\", \"Claire\", \"Daniel\", \"David\", \"Eleanor\", \"Elijah\",\n",
    "        \"Elizabeth\", \"Ella\", \"Ethan\", \"Evelyn\", \"Gabriel\", \"Grace\", \"Hailey\", \"Hannah\", \"Isaac\", \"Isabella\", \"Jack\",\n",
    "        \"Jackson\", \"Jacob\", \"James\", \"Jason\", \"Jennifer\", \"John\", \"Jonathan\", \"Julia\", \"Julian\", \"Katherine\",\n",
    "        \"Kevin\", \"Laura\", \"Lauren\", \"Leah\", \"Leo\", \"Levi\", \"Liam\", \"Lillian\", \"Alexander\", \"Alexey\", \"Andrey\", \"Anton\",\n",
    "        \"Artem\", \"Boris\", \"Vasiliy\", \"Vladimir\", \"Georgy\", \"Gregory\", \"Denis\", \"Dmitry\", \"Evgeny\", \"Ivan\", \"Igor\",\n",
    "        \"Ilya\", \"Kirill\", \"Konstantin\", \"Leo\", \"Leonid\", \"Maksim\", \"Michael\", \"Nikita\", \"Nikolay\", \"Oleg\", \"Pavel\",\n",
    "        \"Peter\", \"Novel\", \"Sergei\", \"Stanislav\", \"Stepan\", \"Timofey\", \"Fedor\", \"Philip\", \"Yuri\", \"Yakov\", \"Abram\",\n",
    "        \"Adam\", \"Azariy\", \"Akim\"]\n",
    "surname = [\"Anderson\", \"Brown\", \"Clark\", \"Davis\", \"Evans\", \"Foster\", \"Garcia\", \"Hall\", \"Jackson\", \"Johnson\", \"King\",\n",
    "           \"Lee\", \"Martinez\", \"Miller\", \"Moore\", \"Nelson\", \"Parker\", \"Robinson\", \"Rodriguez\", \"Smith\", \"Taylor\",\n",
    "           \"Thomas\", \"Thompson\", \"Walker\", \"White\", \"Williams\", \"Wilson\", \"Young\", \"Adams\", \"Allen\", \"Baker\",\n",
    "           \"Bennett\", \"Brooks\", \"Carter\", \"Cook\", \"Cooper\", \"Cruz\", \"Davis\", \"Edwards\", \"Flores\", \"Gonzalez\",\n",
    "           \"Gray\", \"Green\", \"Harris\", \"Hernandez\", \"Hughes\", \"James\", \"Jenkins\", \"Jones\", \"Kelly\",\n",
    "           \"Zhulev\", \"Romanyugin\", \"Atgeriev\", \"Rybakin\", \"Belonosov\", \"Litovtsev\", \"Pupynin\", \"Silin\", \"Fortieth\",\n",
    "           \"Bakhterev\", \"Losenkov\", \"Efimkin\", \"Fedkov\", \"Muldakhmetov\", \"Perko\", \"Burziev\", \"Kornilin\", \"Podgorsky\",\n",
    "           \"Samborsky\", \"Nozdrovsky\", \"Merezhnikov\", \"Aleshchukin\", \"Gudochkin\", \"Vitovsky\", \"Mamchenko\", \"Burmatov\",\n",
    "           \"Malinovsky\", \"Aeroplanes\", \"Karachentsev\", \"Nikonorov\", \"Nurkadilov\", \"Borisevich\", \"Voropanov\",\n",
    "           \"Abzalilov\", \"Skorobogatykh\", \"Balobin\", \"Baranyuk\", \"Barchukov\", \"Shvedchikov\", \"Kosyakov\", \"Antonikov\",\n",
    "           \"Makar\", \"Borilko\", \"Bazylin\", \"Soloshenko\", \"Batalin\", \"Umergalin\", \"Murzaev\", \"Zhuravok\", \"Poskrebyshev\"]"
   ]
  },
  {
   "cell_type": "markdown",
   "id": "4ab9f911-fdf4-4d90-a232-0f79bcae7338",
   "metadata": {},
   "source": [
    "### Создание класса итератора"
   ]
  },
  {
   "cell_type": "code",
   "execution_count": 16,
   "id": "ad8130e9-e5d3-4835-9ee9-c0ab24103026",
   "metadata": {},
   "outputs": [],
   "source": [
    "class StaffRowGenerator:\n",
    "    def __init__(self, posts, n_staffs):\n",
    "        self._posts = posts\n",
    "        self._n_staffs = int(n_staffs)\n",
    "        self._state_posts = 0\n",
    "        self._state_cur_staffs = 0\n",
    "\n",
    "    def __iter__(self):\n",
    "        return self\n",
    "\n",
    "    def __next__(self):\n",
    "        surname = self.gen_surname()\n",
    "        name = self.gen_name()\n",
    "        patronymic = self.gen_name()\n",
    "        gender = self.gen_gender()\n",
    "        date_of_birth = self.gen_birthday()\n",
    "        date_of_employment = self.gen_date_of_employment(date_of_birth)\n",
    "        post = self.gen_post()\n",
    "        salary = self.gen_salary(post)\n",
    "\n",
    "        row = [surname, name, patronymic, gender, date_of_birth.strftime('%Y-%m-%d'), date_of_employment.strftime('%Y-%m-%d'), salary, post]\n",
    "\n",
    "        self.update_state()\n",
    "\n",
    "        return row\n",
    "\n",
    "    def update_state(self):\n",
    "        if self._state_cur_staffs == self._n_staffs:            \n",
    "            if self._state_posts == len(self._posts) - 1:\n",
    "                self._state_cur_staffs = 0\n",
    "                self._state_posts = 0\n",
    "            else:\n",
    "                self._state_cur_staffs = 0\n",
    "                self._state_posts += 1\n",
    "        else:\n",
    "            self._state_cur_staffs += 1\n",
    "\n",
    "    def generate_date(self, start_date, end_date):\n",
    "        return fake.date_time_between(start_date=start_date, end_date=end_date)\n",
    "\n",
    "    def gen_surname(self):\n",
    "        return random.choice(surname)\n",
    "\n",
    "    def gen_name(self):\n",
    "        return random.choice(name)\n",
    "\n",
    "    def gen_gender(self):\n",
    "        numb = random.randint(1, 100)\n",
    "        if numb >= 50:\n",
    "            return 'M'\n",
    "        else:\n",
    "            return 'F'\n",
    "\n",
    "    def gen_birthday(self):\n",
    "        min_age = datetime.datetime(2005,1,9)\n",
    "        max_age = datetime.datetime(1950,1,1)\n",
    "        birth_date = self.generate_date(max_age,min_age)\n",
    "        return birth_date\n",
    "\n",
    "    def gen_date_of_employment(self, birthday):\n",
    "        years = 18\n",
    "        date_malalaia = birthday +  timedelta(days=years * 365.2425)\n",
    "        date_of_employment = self.generate_date(date_malalaia, datetime.datetime.now())\n",
    "        return date_of_employment\n",
    "        \n",
    "\n",
    "    def gen_post(self):\n",
    "        post = self._posts['post'][self._state_posts]\n",
    "        return post\n",
    "\n",
    "    def gen_salary(self, post):\n",
    "        if post:\n",
    "            return round(random.uniform(self._posts[\"min_salary\"][self._state_posts], self._posts['max_salary'][self._state_posts]), 2)\n",
    "        else:\n",
    "            return round(random.uniform(1.0, self._posts[\"min_salary\"][self._state_posts]), 2) "
   ]
  },
  {
   "cell_type": "markdown",
   "id": "25221a71-13a4-4815-88f3-1c4ef10df2ce",
   "metadata": {},
   "source": [
    "### Генерация данных"
   ]
  },
  {
   "cell_type": "code",
   "execution_count": 17,
   "id": "501f4722-a4fc-47ae-8481-55854ebd92b9",
   "metadata": {},
   "outputs": [],
   "source": [
    "n_staffs = 7\n",
    "staff_generator = StaffRowGenerator(dt_post, n_staffs)"
   ]
  },
  {
   "cell_type": "code",
   "execution_count": 18,
   "id": "f555df1d-4b43-4458-9b8b-79a31ba15fbe",
   "metadata": {},
   "outputs": [],
   "source": [
    "your_path = 'C:/Users/tzeen/DataFiles/'\n",
    "num_rows = 490"
   ]
  },
  {
   "cell_type": "code",
   "execution_count": 19,
   "id": "75e6caef-c4b9-4520-81ae-9aa30c853a36",
   "metadata": {},
   "outputs": [],
   "source": [
    "def create_file(file_path, header,  num_rows):\n",
    "    with pd.ExcelWriter(file_path, engine='xlsxwriter') as writer:\n",
    "        workbook = writer.book\n",
    "        worksheet = workbook.add_worksheet()\n",
    "        worksheet.write_row(0, 0, header)\n",
    "        for i in range(num_rows):\n",
    "            row_data = staff_generator.__next__()\n",
    "            worksheet.write_row(i + 1, 0, row_data)"
   ]
  },
  {
   "cell_type": "code",
   "execution_count": 20,
   "id": "9f3e2aaa-e696-458f-ab82-28bc3acf9e0d",
   "metadata": {},
   "outputs": [],
   "source": [
    "staffs_file_path = your_path + 'Staff.xlsx'\n",
    "create_file(staffs_file_path, ['surname', 'name', 'patronymic', 'gender', 'date_of_birth', 'date_of_employment', 'salary', 'post'], num_rows)"
   ]
  },
  {
   "cell_type": "code",
   "execution_count": null,
   "id": "4c273f76-ac48-4e6c-93f7-d24dd5a6d8de",
   "metadata": {},
   "outputs": [],
   "source": []
  },
  {
   "cell_type": "code",
   "execution_count": null,
   "id": "387adc50-eb5b-41d9-8994-b3126c0f2653",
   "metadata": {},
   "outputs": [],
   "source": []
  }
 ],
 "metadata": {
  "kernelspec": {
   "display_name": "Python 3 (ipykernel)",
   "language": "python",
   "name": "python3"
  },
  "language_info": {
   "codemirror_mode": {
    "name": "ipython",
    "version": 3
   },
   "file_extension": ".py",
   "mimetype": "text/x-python",
   "name": "python",
   "nbconvert_exporter": "python",
   "pygments_lexer": "ipython3",
   "version": "3.12.2"
  }
 },
 "nbformat": 4,
 "nbformat_minor": 5
}
