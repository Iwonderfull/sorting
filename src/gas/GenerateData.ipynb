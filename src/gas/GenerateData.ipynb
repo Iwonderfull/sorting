{
 "cells": [
  {
   "cell_type": "code",
   "execution_count": 107,
   "id": "b0b91f64-fdd7-4aec-bd22-f89ae73e32ed",
   "metadata": {},
   "outputs": [],
   "source": [
    "from datetime import datetime, timedelta\n",
    "from faker import Faker \n",
    "import pandas as pd\n",
    "import csv\n",
    "import matplotlib.pyplot as plt\n",
    "import random\n",
    "import openpyxl\n",
    "\n",
    "fake = Faker()\n",
    "\n",
    "dt_specie = pd.read_excel(\"/home/barry/Documents/PythonProjects/Test/specie_data.xlsx\")"
   ]
  },
  {
   "cell_type": "code",
   "execution_count": 108,
   "id": "8ab97c09-9b75-48ce-ae99-b717b6b69957",
   "metadata": {},
   "outputs": [
    {
     "name": "stdout",
     "output_type": "stream",
     "text": [
      "<class 'pandas.core.frame.DataFrame'>\n",
      "RangeIndex: 75 entries, 0 to 74\n",
      "Data columns (total 6 columns):\n",
      " #   Column          Non-Null Count  Dtype  \n",
      "---  ------          --------------  -----  \n",
      " 0   Species         75 non-null     object \n",
      " 1   Adult height    75 non-null     float64\n",
      " 2   Child's height  75 non-null     float64\n",
      " 3   Adult weight    75 non-null     float64\n",
      " 4   Child's weight  75 non-null     float64\n",
      " 5   Lifespan        75 non-null     int64  \n",
      "dtypes: float64(4), int64(1), object(1)\n",
      "memory usage: 3.6+ KB\n"
     ]
    }
   ],
   "source": [
    "dt_specie.info()"
   ]
  },
  {
   "cell_type": "code",
   "execution_count": 109,
   "id": "ac518ed1-706e-4a08-a1c3-924e28c88c7d",
   "metadata": {
    "scrolled": true
   },
   "outputs": [
    {
     "data": {
      "text/plain": [
       "array([['Chinese Alligator', 220.0, 44.0, 45.0, 4.5, 50],\n",
       "       ['Venezuelan Amazon', 41.0, 8.2, 0.34, 0.034, 60],\n",
       "       ['Yellow-faced Amazon', 37.0, 7.4, 0.34, 0.034, 50],\n",
       "       ['Blue-faced Amazon', 54.5, 10.9, 0.52, 0.052, 70],\n",
       "       ['White-tailed wildebeest', 120.0, 24.0, 170.0, 17.0, 20],\n",
       "       ['Black Antelope', 90.0, 18.0, 170.0, 17.0, 20],\n",
       "       ['Red Macaw', 90.0, 18.0, 1.25, 0.125, 80],\n",
       "       ['Yellow macaw', 147.0, 29.4, 1.3, 0.13, 50],\n",
       "       ['Big cormorant', 100.0, 20.0, 3.0, 0.3, 20],\n",
       "       ['Snow leopard (Snow Leopard)', 120.0, 24.0, 30.0, 3.0, 20],\n",
       "       ['Panamanian Psalmopeus', 23.0, 4.6, 0.15, 0.015, 15],\n",
       "       ['Golden Eagle', 93.0, 18.6, 5.0, 0.5, 50],\n",
       "       ['Ordinary beaver', 80.0, 16.0, 30.0, 3.0, 20],\n",
       "       ['Bristly Armadillo', 38.0, 7.6, 0.9, 0.09, 16],\n",
       "       ['Vicuna', 150.0, 30.0, 50.0, 5.0, 20],\n",
       "       ['Mexican Venomous tooth', 90.0, 18.0, 45.0, 4.5, 30],\n",
       "       ['Raven', 70.0, 14.0, 0.14, 0.014, 40],\n",
       "       ['Horned Raven', 115.0, 23.0, 6.0, 0.6, 60],\n",
       "       ['Senegalese galago', 38.0, 7.6, 200.0, 20.0, 20],\n",
       "       ['Thick-tailed galago', 70.0, 14.0, 1.2, 0.12, 22],\n",
       "       ['Black-armed Gibbon', 64.0, 12.8, 6.0, 0.6, 30],\n",
       "       ['Striped Hyena', 120.0, 24.0, 40.0, 4.0, 15],\n",
       "       ['Lowland Gorilla', 165.0, 33.0, 130.0, 13.0, 50],\n",
       "       ['Arizona yadozub', 60.0, 12.0, 2.0, 0.2, 30],\n",
       "       ['Jaguarundi', 137.0, 27.4, 8.0, 0.8, 40],\n",
       "       ['Diamond Turtledove', 137.0, 27.4, 8.0, 0.8, 15],\n",
       "       ['Emu', 190.0, 38.0, 45.0, 4.5, 30],\n",
       "       ['Australian broad-nosed', 56.0, 11.2, 0.7, 0.07, 3],\n",
       "       ['Laughing Turtledove', 30.0, 6.0, 0.25, 0.025, 12],\n",
       "       ['Black Vulture', 280.0, 56.0, 11.0, 1.1, 50],\n",
       "       ['Chinchilla', 55.0, 11.0, 0.75, 0.075, 20],\n",
       "       ['Shiloklyovka', 48.0, 9.6, 0.32, 0.032, 15],\n",
       "       ['Asian Jackal', 121.0, 24.2, 9.0, 0.9, 14],\n",
       "       ['Lapwing', 45.0, 9.0, 0.3, 0.03, 12],\n",
       "       ['Silver Gull', 60.0, 12.0, 0.8, 0.08, 10],\n",
       "       ['Grey Heron', 98.0, 19.6, 1.5, 0.15, 8],\n",
       "       ['Great White Heron', 104.0, 20.8, 1.1, 0.11, 7],\n",
       "       ['white-browed goose', 77.0, 15.4, 2.6, 0.26, 17],\n",
       "       ['Ussuri Harza', 94.0, 18.8, 4.0, 0.4, 17],\n",
       "       ['Mountain Goose', 70.0, 14.0, 3.0, 0.3, 30],\n",
       "       ['Pink Flamingo', 145.0, 29.0, 3.5, 0.35, 50],\n",
       "       ['Goose gumennik', 89.0, 17.8, 3.5, 0.35, 30],\n",
       "       ['Red Flamingo', 145.0, 29.0, 3.5, 0.35, 50],\n",
       "       ['Western goose gumennik', 90.0, 18.0, 4.0, 0.4, 30],\n",
       "       ['West Siberian Owl', 75.0, 15.0, 2.0, 0.2, 70],\n",
       "       ['red-headed goose', 50.0, 10.0, 2.0, 0.2, 25],\n",
       "       ['Fennec', 40.0, 8.0, 1.5, 0.15, 20],\n",
       "       ['Pheasant Tragopan Temminka', 210.0, 42.0, 1.5, 0.15, 13],\n",
       "       [\"Magellan's goose\", 65.0, 13.0, 3.0, 0.3, 25],\n",
       "       ['Silver pheasant', 120.0, 24.0, 4.0, 0.4, 15],\n",
       "       ['Fire-backed Pheasant', 70.0, 14.0, 1.2, 0.12, 12],\n",
       "       ['Golden Pheasant', 80.0, 16.0, 0.72, 0.072, 15],\n",
       "       ['Brown Peacock Pheasant', 89.0, 17.8, 1.5, 0.15, 12],\n",
       "       [\"Ross's Goose\", 66.0, 13.2, 1.3, 0.13, 25],\n",
       "       ['Grey Goose', 90.0, 18.0, 3.7, 0.37, 30],\n",
       "       ['Dry-nosed goose', 95.0, 19.0, 3.8, 0.38, 25],\n",
       "       ['Diamond Pheasant', 110.0, 22.0, 0.6, 0.06, 25],\n",
       "       ['Cuban Whistling Duck', 56.0, 11.2, 0.65, 0.065, 20],\n",
       "       ['double-humped camel', 360.0, 72.0, 40.0, 4.0, 50],\n",
       "       ['Toucan toko', 50.0, 10.0, 0.5, 0.05, 20],\n",
       "       ['Blackbird', 26.0, 5.2, 0.125, 0.0125, 7],\n",
       "       ['White-breasted hedgehog', 29.0, 5.8, 0.9, 0.09, 4],\n",
       "       ['Amur tiger', 200.0, 40.0, 250.0, 25.0, 15],\n",
       "       ['Raccoon polosun', 85.0, 17.0, 6.0, 0.6, 4],\n",
       "       ['Red-tailed Jacko', 35.0, 7.0, 0.6, 0.06, 49],\n",
       "       ['Panthera leo', 250.0, 90.0, 190.0, 30.0, 20],\n",
       "       ['Elephas maximus', 300.0, 120.0, 4500.0, 200.0, 60],\n",
       "       ['Ailuropoda melanoleuca', 150.0, 10.0, 150.0, 15.0, 30],\n",
       "       ['Panthera tigris', 270.0, 100.0, 300.0, 50.0, 25],\n",
       "       ['Crocodylidae', 300.0, 50.0, 50.0, 10.0, 50],\n",
       "       ['Gorilla', 170.0, 100.0, 200.0, 13.0, 35],\n",
       "       ['Aquila', 70.0, 30.0, 5.0, 2.0, 15],\n",
       "       ['Macropodidae', 200.0, 40.0, 50.0, 3.0, 50],\n",
       "       ['Equus zebra', 200.0, 80.0, 400.0, 20.0, 30],\n",
       "       ['Giraffa camelopardalis', 500.0, 200.0, 1200.0, 100.0, 40]],\n",
       "      dtype=object)"
      ]
     },
     "execution_count": 109,
     "metadata": {},
     "output_type": "execute_result"
    }
   ],
   "source": [
    "dt_specie.to_numpy()"
   ]
  },
  {
   "cell_type": "code",
   "execution_count": 110,
   "id": "951564ba-1166-47e0-9ee5-8468c204b3a1",
   "metadata": {},
   "outputs": [],
   "source": [
    "def generate_date(start_date, end_date):\n",
    "    return fake.date_time_between(start_date=start_date, end_date=end_date)\n",
    "\n",
    "\n",
    "def create_file(file_path, header, data_generator, num_rows):\n",
    "    with pd.ExcelWriter(file_path, engine='xlsxwriter') as writer:\n",
    "        workbook  = writer.book\n",
    "        worksheet = workbook.add_worksheet()\n",
    "        worksheet.write_row(0, 0, header)\n",
    "        for i in range(num_rows):\n",
    "            row_data = data_generator(i)\n",
    "            worksheet.write_row(i + 1, 0, row_data)\n",
    "            \n",
    "\n",
    "\n",
    "def create_animals_row(row_id):\n",
    "    if num_species[0] != 0:\n",
    "        num_species[0] -= 1\n",
    "    else:\n",
    "        if num_species[1] == len(dt_specie) - 1:\n",
    "            num_species[1] = 0\n",
    "        else:\n",
    "            num_species[1] += 1\n",
    "            num_species[0] = numb_per_species\n",
    "\n",
    "    entry_date_end = datetime.now()\n",
    "    entry_date_start = entry_date_end - timedelta(days=int(dt_specie[\"Lifespan\"][num_species[1]] * 365))\n",
    "    entry_date = generate_date(entry_date_start, entry_date_end)\n",
    "    difference = datetime.now() - entry_date\n",
    "    height = 0\n",
    "    weight = 0\n",
    "\n",
    "    if (difference > timedelta(days=int(dt_specie[\"Lifespan\"][num_species[1]] * 110))):\n",
    "        maturity = True\n",
    "        height = round(random.uniform(dt_specie[\"Child's height\"][num_species[1]], dt_specie['Adult height'][num_species[1]]), 2)\n",
    "        weight = round(random.uniform(dt_specie[\"Child's weight\"][num_species[1]], dt_specie['Adult weight'][num_species[1]]), 2)\n",
    "    else:\n",
    "        maturity = False\n",
    "        height = round(random.uniform(1.0, dt_specie[\"Child's height\"][num_species[1]]), 2)\n",
    "        weight = round(random.uniform(1.0, dt_specie[\"Child's weight\"][num_species[1]]), 2)\n",
    "\n",
    "    gender = random.choice([\"Самец\", \"Самка\"])\n",
    "    return [fake.name().split()[0],entry_date.strftime('%Y-%m-%dT%H:%M:%S') , dt_specie['Species'][num_species[1]], maturity, weight, height, gender]\n",
    "\n"
   ]
  },
  {
   "cell_type": "code",
   "execution_count": 111,
   "id": "2c0eb4d5-8c68-46dd-8e89-2a505d063f34",
   "metadata": {},
   "outputs": [],
   "source": [
    "your_path = '/home/barry/Documents/DataTest/'\n",
    "numb_per_species = 7\n",
    "num_species = [numb_per_species,0]\n",
    "num_rows = 490"
   ]
  },
  {
   "cell_type": "code",
   "execution_count": 112,
   "id": "dd89b860-f2f7-4fc7-844f-173400bae2dc",
   "metadata": {},
   "outputs": [],
   "source": [
    "animals_file_path = your_path + 'Animval.xlsx'\n",
    "create_file(animals_file_path, [\"Кличка\", \"Дата появления\", \"Вид\",\"Зрелость\", \"Вес\", \"Рост\", \"Пол\"],\n",
    "            create_animals_row, num_rows)"
   ]
  },
  {
   "cell_type": "code",
   "execution_count": 113,
   "id": "4e623822-107b-4856-a45b-0a3b2301f283",
   "metadata": {},
   "outputs": [],
   "source": [
    "dt_gd = pd.read_excel(\"/home/barry/Documents/DataTest/Animval.xlsx\", )"
   ]
  },
  {
   "cell_type": "code",
   "execution_count": 114,
   "id": "d0ea32c1-da6a-47b1-985c-db199836de6a",
   "metadata": {},
   "outputs": [
    {
     "name": "stdout",
     "output_type": "stream",
     "text": [
      "<class 'pandas.core.frame.DataFrame'>\n",
      "RangeIndex: 490 entries, 0 to 489\n",
      "Data columns (total 7 columns):\n",
      " #   Column          Non-Null Count  Dtype  \n",
      "---  ------          --------------  -----  \n",
      " 0   Кличка          490 non-null    object \n",
      " 1   Дата появления  490 non-null    object \n",
      " 2   Вид             490 non-null    object \n",
      " 3   Зрелость        490 non-null    bool   \n",
      " 4   Вес             490 non-null    float64\n",
      " 5   Рост            490 non-null    float64\n",
      " 6   Пол             490 non-null    object \n",
      "dtypes: bool(1), float64(2), object(4)\n",
      "memory usage: 23.6+ KB\n"
     ]
    }
   ],
   "source": [
    "dt_gd.info()"
   ]
  },
  {
   "cell_type": "code",
   "execution_count": 115,
   "id": "e6c297c7-16ff-4da2-9092-e32d70b926ed",
   "metadata": {},
   "outputs": [
    {
     "data": {
      "text/html": [
       "<div>\n",
       "<style scoped>\n",
       "    .dataframe tbody tr th:only-of-type {\n",
       "        vertical-align: middle;\n",
       "    }\n",
       "\n",
       "    .dataframe tbody tr th {\n",
       "        vertical-align: top;\n",
       "    }\n",
       "\n",
       "    .dataframe thead th {\n",
       "        text-align: right;\n",
       "    }\n",
       "</style>\n",
       "<table border=\"1\" class=\"dataframe\">\n",
       "  <thead>\n",
       "    <tr style=\"text-align: right;\">\n",
       "      <th></th>\n",
       "      <th>Кличка</th>\n",
       "      <th>Дата появления</th>\n",
       "      <th>Вид</th>\n",
       "      <th>Зрелость</th>\n",
       "      <th>Вес</th>\n",
       "      <th>Рост</th>\n",
       "      <th>Пол</th>\n",
       "    </tr>\n",
       "  </thead>\n",
       "  <tbody>\n",
       "    <tr>\n",
       "      <th>0</th>\n",
       "      <td>Vanessa</td>\n",
       "      <td>2022-08-17T08:56:49</td>\n",
       "      <td>Chinese Alligator</td>\n",
       "      <td>False</td>\n",
       "      <td>1.80</td>\n",
       "      <td>17.42</td>\n",
       "      <td>Самец</td>\n",
       "    </tr>\n",
       "    <tr>\n",
       "      <th>1</th>\n",
       "      <td>Vicki</td>\n",
       "      <td>2003-08-05T11:43:15</td>\n",
       "      <td>Chinese Alligator</td>\n",
       "      <td>True</td>\n",
       "      <td>33.48</td>\n",
       "      <td>207.11</td>\n",
       "      <td>Самец</td>\n",
       "    </tr>\n",
       "    <tr>\n",
       "      <th>2</th>\n",
       "      <td>Vincent</td>\n",
       "      <td>1981-10-16T23:38:52</td>\n",
       "      <td>Chinese Alligator</td>\n",
       "      <td>True</td>\n",
       "      <td>38.69</td>\n",
       "      <td>178.60</td>\n",
       "      <td>Самка</td>\n",
       "    </tr>\n",
       "  </tbody>\n",
       "</table>\n",
       "</div>"
      ],
      "text/plain": [
       "    Кличка       Дата появления                Вид  Зрелость    Вес    Рост  \\\n",
       "0  Vanessa  2022-08-17T08:56:49  Chinese Alligator     False   1.80   17.42   \n",
       "1    Vicki  2003-08-05T11:43:15  Chinese Alligator      True  33.48  207.11   \n",
       "2  Vincent  1981-10-16T23:38:52  Chinese Alligator      True  38.69  178.60   \n",
       "\n",
       "     Пол  \n",
       "0  Самец  \n",
       "1  Самец  \n",
       "2  Самка  "
      ]
     },
     "execution_count": 115,
     "metadata": {},
     "output_type": "execute_result"
    }
   ],
   "source": [
    "dt_gd.head(3)"
   ]
  },
  {
   "cell_type": "code",
   "execution_count": 116,
   "id": "bb71b03f-254e-4b2f-9307-d2e321dd959c",
   "metadata": {},
   "outputs": [
    {
     "data": {
      "text/html": [
       "<div>\n",
       "<style scoped>\n",
       "    .dataframe tbody tr th:only-of-type {\n",
       "        vertical-align: middle;\n",
       "    }\n",
       "\n",
       "    .dataframe tbody tr th {\n",
       "        vertical-align: top;\n",
       "    }\n",
       "\n",
       "    .dataframe thead th {\n",
       "        text-align: right;\n",
       "    }\n",
       "</style>\n",
       "<table border=\"1\" class=\"dataframe\">\n",
       "  <thead>\n",
       "    <tr style=\"text-align: right;\">\n",
       "      <th></th>\n",
       "      <th>Кличка</th>\n",
       "      <th>Дата появления</th>\n",
       "      <th>Вид</th>\n",
       "      <th>Зрелость</th>\n",
       "      <th>Вес</th>\n",
       "      <th>Рост</th>\n",
       "      <th>Пол</th>\n",
       "    </tr>\n",
       "  </thead>\n",
       "  <tbody>\n",
       "    <tr>\n",
       "      <th>487</th>\n",
       "      <td>Wesley</td>\n",
       "      <td>2023-01-13T03:36:35</td>\n",
       "      <td>White-breasted hedgehog</td>\n",
       "      <td>False</td>\n",
       "      <td>0.64</td>\n",
       "      <td>4.25</td>\n",
       "      <td>Самец</td>\n",
       "    </tr>\n",
       "    <tr>\n",
       "      <th>488</th>\n",
       "      <td>Alexander</td>\n",
       "      <td>2020-05-31T00:15:43</td>\n",
       "      <td>White-breasted hedgehog</td>\n",
       "      <td>True</td>\n",
       "      <td>0.72</td>\n",
       "      <td>16.88</td>\n",
       "      <td>Самка</td>\n",
       "    </tr>\n",
       "    <tr>\n",
       "      <th>489</th>\n",
       "      <td>Tyler</td>\n",
       "      <td>2021-12-01T04:33:24</td>\n",
       "      <td>White-breasted hedgehog</td>\n",
       "      <td>True</td>\n",
       "      <td>0.09</td>\n",
       "      <td>22.41</td>\n",
       "      <td>Самец</td>\n",
       "    </tr>\n",
       "  </tbody>\n",
       "</table>\n",
       "</div>"
      ],
      "text/plain": [
       "        Кличка       Дата появления                      Вид  Зрелость   Вес  \\\n",
       "487     Wesley  2023-01-13T03:36:35  White-breasted hedgehog     False  0.64   \n",
       "488  Alexander  2020-05-31T00:15:43  White-breasted hedgehog      True  0.72   \n",
       "489      Tyler  2021-12-01T04:33:24  White-breasted hedgehog      True  0.09   \n",
       "\n",
       "      Рост    Пол  \n",
       "487   4.25  Самец  \n",
       "488  16.88  Самка  \n",
       "489  22.41  Самец  "
      ]
     },
     "execution_count": 116,
     "metadata": {},
     "output_type": "execute_result"
    }
   ],
   "source": [
    "dt_gd.tail(3)"
   ]
  },
  {
   "cell_type": "code",
   "execution_count": 117,
   "id": "8d7bcdcf-4dea-42e9-b505-23a6f9502ea3",
   "metadata": {
    "scrolled": true
   },
   "outputs": [
    {
     "data": {
      "text/html": [
       "<div>\n",
       "<style scoped>\n",
       "    .dataframe tbody tr th:only-of-type {\n",
       "        vertical-align: middle;\n",
       "    }\n",
       "\n",
       "    .dataframe tbody tr th {\n",
       "        vertical-align: top;\n",
       "    }\n",
       "\n",
       "    .dataframe thead th {\n",
       "        text-align: right;\n",
       "    }\n",
       "</style>\n",
       "<table border=\"1\" class=\"dataframe\">\n",
       "  <thead>\n",
       "    <tr style=\"text-align: right;\">\n",
       "      <th></th>\n",
       "      <th>Вес</th>\n",
       "      <th>Рост</th>\n",
       "    </tr>\n",
       "  </thead>\n",
       "  <tbody>\n",
       "    <tr>\n",
       "      <th>count</th>\n",
       "      <td>490.000000</td>\n",
       "      <td>490.000000</td>\n",
       "    </tr>\n",
       "    <tr>\n",
       "      <th>mean</th>\n",
       "      <td>7.707061</td>\n",
       "      <td>42.876265</td>\n",
       "    </tr>\n",
       "    <tr>\n",
       "      <th>std</th>\n",
       "      <td>23.087668</td>\n",
       "      <td>40.580940</td>\n",
       "    </tr>\n",
       "    <tr>\n",
       "      <th>min</th>\n",
       "      <td>0.010000</td>\n",
       "      <td>1.050000</td>\n",
       "    </tr>\n",
       "    <tr>\n",
       "      <th>25%</th>\n",
       "      <td>0.440000</td>\n",
       "      <td>13.100000</td>\n",
       "    </tr>\n",
       "    <tr>\n",
       "      <th>50%</th>\n",
       "      <td>0.865000</td>\n",
       "      <td>29.800000</td>\n",
       "    </tr>\n",
       "    <tr>\n",
       "      <th>75%</th>\n",
       "      <td>2.407500</td>\n",
       "      <td>61.540000</td>\n",
       "    </tr>\n",
       "    <tr>\n",
       "      <th>max</th>\n",
       "      <td>189.220000</td>\n",
       "      <td>241.730000</td>\n",
       "    </tr>\n",
       "  </tbody>\n",
       "</table>\n",
       "</div>"
      ],
      "text/plain": [
       "              Вес        Рост\n",
       "count  490.000000  490.000000\n",
       "mean     7.707061   42.876265\n",
       "std     23.087668   40.580940\n",
       "min      0.010000    1.050000\n",
       "25%      0.440000   13.100000\n",
       "50%      0.865000   29.800000\n",
       "75%      2.407500   61.540000\n",
       "max    189.220000  241.730000"
      ]
     },
     "execution_count": 117,
     "metadata": {},
     "output_type": "execute_result"
    }
   ],
   "source": [
    "dt_gd.describe()"
   ]
  },
  {
   "cell_type": "code",
   "execution_count": 118,
   "id": "d0554ad2-b0a6-4869-978f-b469c7d9f1d0",
   "metadata": {},
   "outputs": [
    {
     "data": {
      "image/png": "[encoded data removed]",
      "text/plain": [
       "<Figure size 1100x1100 with 1 Axes>"
      ]
     },
     "metadata": {},
     "output_type": "display_data"
    }
   ],
   "source": [
    "mature_counts = dt_gd['Зрелость'].value_counts()\n",
    "\n",
    "plt.figure(figsize=(11, 11), facecolor='White')\n",
    "plt.pie(mature_counts, labels=mature_counts.index, autopct='%1.01f%%', startangle=240, colors=['LightGreen', 'green'])\n",
    "plt.title('Mature')\n",
    "plt.show()"
   ]
  },
  {
   "cell_type": "code",
   "execution_count": null,
   "id": "ca61d1fa-95cb-4cb2-b176-f4095e019e7a",
   "metadata": {},
   "outputs": [],
   "source": []
  },
  {
   "cell_type": "code",
   "execution_count": null,
   "id": "ba64e9b1-0e77-47ca-9de5-599248f7f7c5",
   "metadata": {},
   "outputs": [],
   "source": []
  },
  {
   "cell_type": "code",
   "execution_count": null,
   "id": "807d2aef-5f83-44a3-afd5-10daa207cdf4",
   "metadata": {},
   "outputs": [],
   "source": []
  }
 ],
 "metadata": {
  "kernelspec": {
   "display_name": "Python 3 (ipykernel)",
   "language": "python",
   "name": "python3"
  },
  "language_info": {
   "codemirror_mode": {
    "name": "ipython",
    "version": 3
   },
   "file_extension": ".py",
   "mimetype": "text/x-python",
   "name": "python",
   "nbconvert_exporter": "python",
   "pygments_lexer": "ipython3",
   "version": "3.12.2"
  }
 },
 "nbformat": 4,
 "nbformat_minor": 5
}
