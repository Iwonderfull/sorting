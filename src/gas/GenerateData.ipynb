{
 "cells": [
  {
   "cell_type": "markdown",
   "id": "abdc5638-3365-4e39-8d6f-cf556779881a",
   "metadata": {},
   "source": [
    "## Установка зависимостей"
   ]
  },
  {
   "cell_type": "code",
   "execution_count": 1,
   "id": "65cca400-d433-4224-a4c8-ccf75aa6ac88",
   "metadata": {},
   "outputs": [
    {
     "name": "stdout",
     "output_type": "stream",
     "text": [
      "Requirement already satisfied: pandas in c:\\users\\tzeen\\appdata\\local\\programs\\python\\python312\\lib\\site-packages (2.2.1)\n",
      "Requirement already satisfied: matplotlib in c:\\users\\tzeen\\appdata\\local\\programs\\python\\python312\\lib\\site-packages (3.8.3)\n",
      "Requirement already satisfied: seaborn in c:\\users\\tzeen\\appdata\\local\\programs\\python\\python312\\lib\\site-packages (0.13.2)\n",
      "Requirement already satisfied: openpyxl in c:\\users\\tzeen\\appdata\\local\\programs\\python\\python312\\lib\\site-packages (3.1.2)\n",
      "Requirement already satisfied: faker in c:\\users\\tzeen\\appdata\\local\\programs\\python\\python312\\lib\\site-packages (24.2.0)\n",
      "Requirement already satisfied: spicy in c:\\users\\tzeen\\appdata\\local\\programs\\python\\python312\\lib\\site-packages (0.16.0)\n",
      "Requirement already satisfied: psycopg2 in c:\\users\\tzeen\\appdata\\local\\programs\\python\\python312\\lib\\site-packages (2.9.9)\n",
      "Requirement already satisfied: sqlalchemy in c:\\users\\tzeen\\appdata\\local\\programs\\python\\python312\\lib\\site-packages (2.0.28)\n",
      "Requirement already satisfied: pylint in c:\\users\\tzeen\\appdata\\local\\programs\\python\\python312\\lib\\site-packages (3.1.0)\n",
      "Requirement already satisfied: numpy<2,>=1.26.0 in c:\\users\\tzeen\\appdata\\local\\programs\\python\\python312\\lib\\site-packages (from pandas) (1.26.4)\n",
      "Requirement already satisfied: python-dateutil>=2.8.2 in c:\\users\\tzeen\\appdata\\local\\programs\\python\\python312\\lib\\site-packages (from pandas) (2.9.0.post0)\n",
      "Requirement already satisfied: pytz>=2020.1 in c:\\users\\tzeen\\appdata\\local\\programs\\python\\python312\\lib\\site-packages (from pandas) (2024.1)\n",
      "Requirement already satisfied: tzdata>=2022.7 in c:\\users\\tzeen\\appdata\\local\\programs\\python\\python312\\lib\\site-packages (from pandas) (2024.1)\n",
      "Requirement already satisfied: contourpy>=1.0.1 in c:\\users\\tzeen\\appdata\\local\\programs\\python\\python312\\lib\\site-packages (from matplotlib) (1.2.0)\n",
      "Requirement already satisfied: cycler>=0.10 in c:\\users\\tzeen\\appdata\\local\\programs\\python\\python312\\lib\\site-packages (from matplotlib) (0.12.1)\n",
      "Requirement already satisfied: fonttools>=4.22.0 in c:\\users\\tzeen\\appdata\\local\\programs\\python\\python312\\lib\\site-packages (from matplotlib) (4.49.0)\n",
      "Requirement already satisfied: kiwisolver>=1.3.1 in c:\\users\\tzeen\\appdata\\local\\programs\\python\\python312\\lib\\site-packages (from matplotlib) (1.4.5)\n",
      "Requirement already satisfied: packaging>=20.0 in c:\\users\\tzeen\\appdata\\local\\programs\\python\\python312\\lib\\site-packages (from matplotlib) (24.0)\n",
      "Requirement already satisfied: pillow>=8 in c:\\users\\tzeen\\appdata\\local\\programs\\python\\python312\\lib\\site-packages (from matplotlib) (10.2.0)\n",
      "Requirement already satisfied: pyparsing>=2.3.1 in c:\\users\\tzeen\\appdata\\local\\programs\\python\\python312\\lib\\site-packages (from matplotlib) (3.1.2)\n",
      "Requirement already satisfied: et-xmlfile in c:\\users\\tzeen\\appdata\\local\\programs\\python\\python312\\lib\\site-packages (from openpyxl) (1.1.0)\n",
      "Requirement already satisfied: scipy in c:\\users\\tzeen\\appdata\\local\\programs\\python\\python312\\lib\\site-packages (from spicy) (1.12.0)\n",
      "Requirement already satisfied: typing-extensions>=4.6.0 in c:\\users\\tzeen\\appdata\\local\\programs\\python\\python312\\lib\\site-packages (from sqlalchemy) (4.10.0)\n",
      "Requirement already satisfied: greenlet!=0.4.17 in c:\\users\\tzeen\\appdata\\local\\programs\\python\\python312\\lib\\site-packages (from sqlalchemy) (3.0.3)\n",
      "Requirement already satisfied: platformdirs>=2.2.0 in c:\\users\\tzeen\\appdata\\local\\programs\\python\\python312\\lib\\site-packages (from pylint) (4.2.0)\n",
      "Requirement already satisfied: astroid<=3.2.0-dev0,>=3.1.0 in c:\\users\\tzeen\\appdata\\local\\programs\\python\\python312\\lib\\site-packages (from pylint) (3.1.0)\n",
      "Requirement already satisfied: isort!=5.13.0,<6,>=4.2.5 in c:\\users\\tzeen\\appdata\\local\\programs\\python\\python312\\lib\\site-packages (from pylint) (5.13.2)\n",
      "Requirement already satisfied: mccabe<0.8,>=0.6 in c:\\users\\tzeen\\appdata\\local\\programs\\python\\python312\\lib\\site-packages (from pylint) (0.7.0)\n",
      "Requirement already satisfied: tomlkit>=0.10.1 in c:\\users\\tzeen\\appdata\\local\\programs\\python\\python312\\lib\\site-packages (from pylint) (0.12.4)\n",
      "Requirement already satisfied: dill>=0.3.6 in c:\\users\\tzeen\\appdata\\local\\programs\\python\\python312\\lib\\site-packages (from pylint) (0.3.8)\n",
      "Requirement already satisfied: colorama>=0.4.5 in c:\\users\\tzeen\\appdata\\local\\programs\\python\\python312\\lib\\site-packages (from pylint) (0.4.6)\n",
      "Requirement already satisfied: six>=1.5 in c:\\users\\tzeen\\appdata\\local\\programs\\python\\python312\\lib\\site-packages (from python-dateutil>=2.8.2->pandas) (1.16.0)\n",
      "Note: you may need to restart the kernel to use updated packages.\n"
     ]
    }
   ],
   "source": [
    "%pip install pandas matplotlib seaborn openpyxl faker spicy psycopg2 sqlalchemy pylint"
   ]
  },
  {
   "cell_type": "markdown",
   "id": "95ffc9e6-e59a-4d02-b40f-e610ae12fee9",
   "metadata": {},
   "source": [
    "### Импорт библиотек"
   ]
  },
  {
   "cell_type": "code",
   "execution_count": 2,
   "id": "b0b91f64-fdd7-4aec-bd22-f89ae73e32ed",
   "metadata": {},
   "outputs": [],
   "source": [
    "from datetime import datetime, timedelta\n",
    "from faker import Faker \n",
    "import pandas as pd\n",
    "import psycopg2 as psql\n",
    "import csv\n",
    "from scipy import stats\n",
    "import numpy as np\n",
    "from sqlalchemy import create_engine\n",
    "import matplotlib.pyplot as plt\n",
    "import random\n",
    "import openpyxl\n",
    "from scipy.stats import mode\n",
    "import seaborn as sns"
   ]
  },
  {
   "cell_type": "markdown",
   "id": "dcd88c69-9150-4b8a-8975-457d4be266e5",
   "metadata": {},
   "source": [
    "### Настройка окружения"
   ]
  },
  {
   "cell_type": "code",
   "execution_count": 3,
   "id": "959752ad-3e14-4f1e-ac12-cc2bf3d757d3",
   "metadata": {},
   "outputs": [],
   "source": [
    "fake = Faker()\n",
    "sns.set_style(\"darkgrid\")"
   ]
  },
  {
   "cell_type": "code",
   "execution_count": 4,
   "id": "2c0eb4d5-8c68-46dd-8e89-2a505d063f34",
   "metadata": {},
   "outputs": [],
   "source": [
    "your_path = 'C:/Users/tzeen/Documents/DataFiles/'\n",
    "num_rows = 525"
   ]
  },
  {
   "cell_type": "markdown",
   "id": "49943772-2fc7-4e48-b54c-a11e674d5b2d",
   "metadata": {},
   "source": [
    "## Обзор данных"
   ]
  },
  {
   "cell_type": "code",
   "execution_count": 5,
   "id": "12fc2dbc-e89a-454f-a2ca-9215505c29c5",
   "metadata": {},
   "outputs": [],
   "source": [
    "dt_specie = pd.read_excel(\"C:/Users/tzeen/Documents/DataFiles/specie_data.xlsx\")"
   ]
  },
  {
   "cell_type": "code",
   "execution_count": 6,
   "id": "30abacdc-d2c2-4cc4-b2ab-4baff5125890",
   "metadata": {},
   "outputs": [
    {
     "name": "stdout",
     "output_type": "stream",
     "text": [
      "<class 'pandas.core.frame.DataFrame'>\n",
      "RangeIndex: 75 entries, 0 to 74\n",
      "Data columns (total 6 columns):\n",
      " #   Column          Non-Null Count  Dtype  \n",
      "---  ------          --------------  -----  \n",
      " 0   Species         75 non-null     object \n",
      " 1   Adult height    75 non-null     float64\n",
      " 2   Child's height  75 non-null     float64\n",
      " 3   Adult weight    75 non-null     float64\n",
      " 4   Child's weight  75 non-null     float64\n",
      " 5   Lifespan        75 non-null     int64  \n",
      "dtypes: float64(4), int64(1), object(1)\n",
      "memory usage: 3.6+ KB\n"
     ]
    }
   ],
   "source": [
    "dt_specie.info()"
   ]
  },
  {
   "cell_type": "code",
   "execution_count": 7,
   "id": "f759b550-3c8e-4bbf-bf5b-c14fb144144e",
   "metadata": {},
   "outputs": [
    {
     "data": {
      "text/html": [
       "<div>\n",
       "<style scoped>\n",
       "    .dataframe tbody tr th:only-of-type {\n",
       "        vertical-align: middle;\n",
       "    }\n",
       "\n",
       "    .dataframe tbody tr th {\n",
       "        vertical-align: top;\n",
       "    }\n",
       "\n",
       "    .dataframe thead th {\n",
       "        text-align: right;\n",
       "    }\n",
       "</style>\n",
       "<table border=\"1\" class=\"dataframe\">\n",
       "  <thead>\n",
       "    <tr style=\"text-align: right;\">\n",
       "      <th></th>\n",
       "      <th>Species</th>\n",
       "      <th>Adult height</th>\n",
       "      <th>Child's height</th>\n",
       "      <th>Adult weight</th>\n",
       "      <th>Child's weight</th>\n",
       "      <th>Lifespan</th>\n",
       "    </tr>\n",
       "  </thead>\n",
       "  <tbody>\n",
       "    <tr>\n",
       "      <th>0</th>\n",
       "      <td>Chinese Alligator</td>\n",
       "      <td>220.0</td>\n",
       "      <td>44.0</td>\n",
       "      <td>45.00</td>\n",
       "      <td>4.500</td>\n",
       "      <td>50</td>\n",
       "    </tr>\n",
       "    <tr>\n",
       "      <th>1</th>\n",
       "      <td>Venezuelan Amazon</td>\n",
       "      <td>41.0</td>\n",
       "      <td>8.2</td>\n",
       "      <td>0.34</td>\n",
       "      <td>0.034</td>\n",
       "      <td>60</td>\n",
       "    </tr>\n",
       "    <tr>\n",
       "      <th>2</th>\n",
       "      <td>Yellow-faced Amazon</td>\n",
       "      <td>37.0</td>\n",
       "      <td>7.4</td>\n",
       "      <td>0.34</td>\n",
       "      <td>0.034</td>\n",
       "      <td>50</td>\n",
       "    </tr>\n",
       "    <tr>\n",
       "      <th>3</th>\n",
       "      <td>Blue-faced Amazon</td>\n",
       "      <td>54.5</td>\n",
       "      <td>10.9</td>\n",
       "      <td>0.52</td>\n",
       "      <td>0.052</td>\n",
       "      <td>70</td>\n",
       "    </tr>\n",
       "    <tr>\n",
       "      <th>4</th>\n",
       "      <td>White-tailed wildebeest</td>\n",
       "      <td>120.0</td>\n",
       "      <td>24.0</td>\n",
       "      <td>170.00</td>\n",
       "      <td>17.000</td>\n",
       "      <td>20</td>\n",
       "    </tr>\n",
       "  </tbody>\n",
       "</table>\n",
       "</div>"
      ],
      "text/plain": [
       "                   Species  Adult height  Child's height  Adult weight  \\\n",
       "0        Chinese Alligator         220.0            44.0         45.00   \n",
       "1        Venezuelan Amazon          41.0             8.2          0.34   \n",
       "2      Yellow-faced Amazon          37.0             7.4          0.34   \n",
       "3        Blue-faced Amazon          54.5            10.9          0.52   \n",
       "4  White-tailed wildebeest         120.0            24.0        170.00   \n",
       "\n",
       "   Child's weight  Lifespan  \n",
       "0           4.500        50  \n",
       "1           0.034        60  \n",
       "2           0.034        50  \n",
       "3           0.052        70  \n",
       "4          17.000        20  "
      ]
     },
     "execution_count": 7,
     "metadata": {},
     "output_type": "execute_result"
    }
   ],
   "source": [
    "dt_specie.head(5)"
   ]
  },
  {
   "cell_type": "code",
   "execution_count": 8,
   "id": "2931d043-3810-421f-b96f-151162dac336",
   "metadata": {
    "scrolled": true
   },
   "outputs": [
    {
     "data": {
      "text/html": [
       "<div>\n",
       "<style scoped>\n",
       "    .dataframe tbody tr th:only-of-type {\n",
       "        vertical-align: middle;\n",
       "    }\n",
       "\n",
       "    .dataframe tbody tr th {\n",
       "        vertical-align: top;\n",
       "    }\n",
       "\n",
       "    .dataframe thead th {\n",
       "        text-align: right;\n",
       "    }\n",
       "</style>\n",
       "<table border=\"1\" class=\"dataframe\">\n",
       "  <thead>\n",
       "    <tr style=\"text-align: right;\">\n",
       "      <th></th>\n",
       "      <th>Species</th>\n",
       "      <th>Adult height</th>\n",
       "      <th>Child's height</th>\n",
       "      <th>Adult weight</th>\n",
       "      <th>Child's weight</th>\n",
       "      <th>Lifespan</th>\n",
       "    </tr>\n",
       "  </thead>\n",
       "  <tbody>\n",
       "    <tr>\n",
       "      <th>70</th>\n",
       "      <td>Gorilla</td>\n",
       "      <td>170.0</td>\n",
       "      <td>100.0</td>\n",
       "      <td>200.0</td>\n",
       "      <td>13.0</td>\n",
       "      <td>35</td>\n",
       "    </tr>\n",
       "    <tr>\n",
       "      <th>71</th>\n",
       "      <td>Aquila</td>\n",
       "      <td>70.0</td>\n",
       "      <td>30.0</td>\n",
       "      <td>5.0</td>\n",
       "      <td>2.0</td>\n",
       "      <td>15</td>\n",
       "    </tr>\n",
       "    <tr>\n",
       "      <th>72</th>\n",
       "      <td>Macropodidae</td>\n",
       "      <td>200.0</td>\n",
       "      <td>40.0</td>\n",
       "      <td>50.0</td>\n",
       "      <td>3.0</td>\n",
       "      <td>50</td>\n",
       "    </tr>\n",
       "    <tr>\n",
       "      <th>73</th>\n",
       "      <td>Equus zebra</td>\n",
       "      <td>200.0</td>\n",
       "      <td>80.0</td>\n",
       "      <td>400.0</td>\n",
       "      <td>20.0</td>\n",
       "      <td>30</td>\n",
       "    </tr>\n",
       "    <tr>\n",
       "      <th>74</th>\n",
       "      <td>Giraffa camelopardalis</td>\n",
       "      <td>500.0</td>\n",
       "      <td>200.0</td>\n",
       "      <td>1200.0</td>\n",
       "      <td>100.0</td>\n",
       "      <td>40</td>\n",
       "    </tr>\n",
       "  </tbody>\n",
       "</table>\n",
       "</div>"
      ],
      "text/plain": [
       "                   Species  Adult height  Child's height  Adult weight  \\\n",
       "70                 Gorilla         170.0           100.0         200.0   \n",
       "71                  Aquila          70.0            30.0           5.0   \n",
       "72            Macropodidae         200.0            40.0          50.0   \n",
       "73             Equus zebra         200.0            80.0         400.0   \n",
       "74  Giraffa camelopardalis         500.0           200.0        1200.0   \n",
       "\n",
       "    Child's weight  Lifespan  \n",
       "70            13.0        35  \n",
       "71             2.0        15  \n",
       "72             3.0        50  \n",
       "73            20.0        30  \n",
       "74           100.0        40  "
      ]
     },
     "execution_count": 8,
     "metadata": {},
     "output_type": "execute_result"
    }
   ],
   "source": [
    "dt_specie.tail(5)"
   ]
  },
  {
   "cell_type": "code",
   "execution_count": 9,
   "id": "4271a5e6-b79e-431b-acec-8d52b7d3b042",
   "metadata": {},
   "outputs": [
    {
     "data": {
      "text/html": [
       "<div>\n",
       "<style scoped>\n",
       "    .dataframe tbody tr th:only-of-type {\n",
       "        vertical-align: middle;\n",
       "    }\n",
       "\n",
       "    .dataframe tbody tr th {\n",
       "        vertical-align: top;\n",
       "    }\n",
       "\n",
       "    .dataframe thead th {\n",
       "        text-align: right;\n",
       "    }\n",
       "</style>\n",
       "<table border=\"1\" class=\"dataframe\">\n",
       "  <thead>\n",
       "    <tr style=\"text-align: right;\">\n",
       "      <th></th>\n",
       "      <th>Adult height</th>\n",
       "      <th>Child's height</th>\n",
       "      <th>Adult weight</th>\n",
       "      <th>Child's weight</th>\n",
       "      <th>Lifespan</th>\n",
       "    </tr>\n",
       "  </thead>\n",
       "  <tbody>\n",
       "    <tr>\n",
       "      <th>count</th>\n",
       "      <td>75.00000</td>\n",
       "      <td>75.000000</td>\n",
       "      <td>75.000000</td>\n",
       "      <td>75.000000</td>\n",
       "      <td>75.000000</td>\n",
       "    </tr>\n",
       "    <tr>\n",
       "      <th>mean</th>\n",
       "      <td>115.70000</td>\n",
       "      <td>27.646667</td>\n",
       "      <td>112.260733</td>\n",
       "      <td>7.739407</td>\n",
       "      <td>28.720000</td>\n",
       "    </tr>\n",
       "    <tr>\n",
       "      <th>std</th>\n",
       "      <td>85.45858</td>\n",
       "      <td>30.840366</td>\n",
       "      <td>536.377493</td>\n",
       "      <td>26.439330</td>\n",
       "      <td>17.620289</td>\n",
       "    </tr>\n",
       "    <tr>\n",
       "      <th>min</th>\n",
       "      <td>23.00000</td>\n",
       "      <td>4.600000</td>\n",
       "      <td>0.125000</td>\n",
       "      <td>0.012500</td>\n",
       "      <td>3.000000</td>\n",
       "    </tr>\n",
       "    <tr>\n",
       "      <th>25%</th>\n",
       "      <td>60.00000</td>\n",
       "      <td>11.600000</td>\n",
       "      <td>1.000000</td>\n",
       "      <td>0.100000</td>\n",
       "      <td>15.000000</td>\n",
       "    </tr>\n",
       "    <tr>\n",
       "      <th>50%</th>\n",
       "      <td>90.00000</td>\n",
       "      <td>18.000000</td>\n",
       "      <td>3.500000</td>\n",
       "      <td>0.350000</td>\n",
       "      <td>25.000000</td>\n",
       "    </tr>\n",
       "    <tr>\n",
       "      <th>75%</th>\n",
       "      <td>145.00000</td>\n",
       "      <td>29.000000</td>\n",
       "      <td>40.000000</td>\n",
       "      <td>3.500000</td>\n",
       "      <td>40.000000</td>\n",
       "    </tr>\n",
       "    <tr>\n",
       "      <th>max</th>\n",
       "      <td>500.00000</td>\n",
       "      <td>200.000000</td>\n",
       "      <td>4500.000000</td>\n",
       "      <td>200.000000</td>\n",
       "      <td>80.000000</td>\n",
       "    </tr>\n",
       "  </tbody>\n",
       "</table>\n",
       "</div>"
      ],
      "text/plain": [
       "       Adult height  Child's height  Adult weight  Child's weight   Lifespan\n",
       "count      75.00000       75.000000     75.000000       75.000000  75.000000\n",
       "mean      115.70000       27.646667    112.260733        7.739407  28.720000\n",
       "std        85.45858       30.840366    536.377493       26.439330  17.620289\n",
       "min        23.00000        4.600000      0.125000        0.012500   3.000000\n",
       "25%        60.00000       11.600000      1.000000        0.100000  15.000000\n",
       "50%        90.00000       18.000000      3.500000        0.350000  25.000000\n",
       "75%       145.00000       29.000000     40.000000        3.500000  40.000000\n",
       "max       500.00000      200.000000   4500.000000      200.000000  80.000000"
      ]
     },
     "execution_count": 9,
     "metadata": {},
     "output_type": "execute_result"
    }
   ],
   "source": [
    "dt_specie.describe()"
   ]
  },
  {
   "cell_type": "markdown",
   "id": "67f375d3-0c4a-4fa8-a632-240522103211",
   "metadata": {},
   "source": [
    "### Вывод"
   ]
  },
  {
   "cell_type": "markdown",
   "id": "672b3f4e-3e2e-41d6-9101-2f52b9e6a1cc",
   "metadata": {},
   "source": [
    "Взрослый Рост\n",
    "- Среднее: 115.7\n",
    "- Медиана: 90.0\n",
    "- Скос: Среднее больше медианы, что указывает на правую асимметрию распределения.\n",
    "\n",
    "Рост Ребенка\n",
    "- Среднее: 27.65\n",
    "- Медиана: 18.0\n",
    "- Скос: Среднее больше медианы, указывая на правую асимметрию.\n",
    "\n",
    "Взрослая Масса Тела:\n",
    "- Среднее: 112.26\n",
    "- Медиана: 3.5\n",
    "- Скос: Среднее больше медианы, что указывает на правую асимметрию. Однако наличие нескольких очень высоких значений может влиять на среднее.\n",
    "\n",
    "Масса Тела Ребенка:\n",
    "- Среднее: 7.74\n",
    "- Медиана: 0.35\n",
    "- Скос: Среднее больше медианы, указывая на правую асимметрию. Аналогично взрослой массе тела, наличие нескольких очень высоких значений может влиять на среднее.\n",
    "\n",
    "Продолжительность Жизни:\n",
    "- Среднее: 28.72\n",
    "- Медиана: 25.0\n",
    "- Скос: Среднее больше медианы, указывая на правую асимметрию."
   ]
  },
  {
   "cell_type": "markdown",
   "id": "2dc74902-6f9d-4161-9176-f1bb8ca66b6c",
   "metadata": {},
   "source": [
    "# Создание класса итератора"
   ]
  },
  {
   "cell_type": "code",
   "execution_count": 10,
   "id": "97027f71-8d09-43d1-89cf-ba4bf5ebadf3",
   "metadata": {},
   "outputs": [],
   "source": [
    "class AnimalRowGenerator:\n",
    "    def __init__(self,species,n_animals):\n",
    "        self._species = species\n",
    "        self._n_animals = int(n_animals)\n",
    "        self._state_species = 0\n",
    "        self._state_cur_animals = 1\n",
    "\n",
    "    def __iter__(self):\n",
    "        return self\n",
    "\n",
    "    def __next__(self):\n",
    "\n",
    "        gender = self.gen_gender()\n",
    "        birthday = self.gen_birthday()   \n",
    "        maturity = self.gen_maturity(birthday)\n",
    "        weight = self.gen_weight(maturity)\n",
    "        height = self.gen_height(maturity)\n",
    "        name = self.gen_name()\n",
    "        \n",
    "        row = [name,birthday.strftime('%Y-%m-%dT%H:%M:%S') ,self._species[\"Species\"][self._state_species],maturity, weight, height , gender]\n",
    "\n",
    "        \n",
    "        self.update_state()\n",
    "\n",
    "        return row\n",
    "        \n",
    "\n",
    "    def update_state(self):\n",
    "        if self._state_cur_animals == self._n_animals:            \n",
    "            if self._state_species == len(self._species) - 1:\n",
    "                self._state_cur_animals = 1\n",
    "                self._state_species = 0\n",
    "            else:\n",
    "                self._state_cur_animals = 1\n",
    "                self._state_species += 1\n",
    "        else:\n",
    "            self._state_cur_animals += 1\n",
    " \n",
    "    def generate_date(self,start_date):\n",
    "        return fake.date_time_between(start_date=start_date, end_date=datetime.now())\n",
    "    \n",
    "    def gen_gender(self):\n",
    "        numb = random.randint(1, 100)\n",
    "        if numb >= 40:\n",
    "            return 'Male'\n",
    "        else:\n",
    "            return 'Female'\n",
    "\n",
    "    def gen_name(self):\n",
    "        return fake.name()\n",
    "\n",
    "    def gen_maturity(self, birthday):\n",
    "        lifespan = self._species['Lifespan'][self._state_species]\n",
    "        difference = (datetime.now() - birthday).days / 365 \n",
    "        maturity = difference > 0.3 * lifespan\n",
    "        return maturity\n",
    "    \n",
    "    def gen_birthday(self):\n",
    "        return self.generate_date(datetime.now() - timedelta(days=365.25 * self._species['Lifespan'][self._state_species]) )\n",
    "        \n",
    "    def gen_weight(self, maturity) -> bool:\n",
    "        if maturity:\n",
    "            return round(random.uniform(self._species[\"Child's weight\"][self._state_species], \n",
    "                                        self._species['Adult weight'][self._state_species]), 2)\n",
    "        else:\n",
    "            return round(random.uniform(1.0, self._species[\"Child's weight\"][self._state_species]), 2)   \n",
    "            \n",
    "    def gen_height(self, maturity):\n",
    "        if maturity:\n",
    "            return round(random.uniform(self._species[\"Child's height\"][self._state_species], \n",
    "                                        self._species['Adult height'][self._state_species]), 2)\n",
    "        else:\n",
    "            return round(random.uniform(1.0, self._species[\"Child's height\"][self._state_species]), 2)        "
   ]
  },
  {
   "cell_type": "markdown",
   "id": "9cdea3d8-e79e-4b80-8bf1-0e33ef1b1864",
   "metadata": {},
   "source": [
    "# Генерация данных"
   ]
  },
  {
   "cell_type": "code",
   "execution_count": 11,
   "id": "2830f5be-0fde-479a-8cf4-6948bf7b39b5",
   "metadata": {},
   "outputs": [],
   "source": [
    "n_animals = 7\n",
    "animal_generator = AnimalRowGenerator(dt_specie, n_animals)"
   ]
  },
  {
   "cell_type": "code",
   "execution_count": 12,
   "id": "79717df5-4fc2-41bd-be18-2ad6fd2a0380",
   "metadata": {},
   "outputs": [],
   "source": [
    "def create_file(file_path, header,  num_rows, generator):\n",
    "    with pd.ExcelWriter(file_path, engine='xlsxwriter') as writer:\n",
    "        workbook = writer.book\n",
    "        worksheet = workbook.add_worksheet()\n",
    "        worksheet.write_row(0, 0, header)\n",
    "        for i in range(num_rows):\n",
    "            row_data = next(generator) \n",
    "            worksheet.write_row(i + 1, 0, row_data)\n"
   ]
  },
  {
   "cell_type": "code",
   "execution_count": 13,
   "id": "dd89b860-f2f7-4fc7-844f-173400bae2dc",
   "metadata": {},
   "outputs": [],
   "source": [
    "animals_file_path = your_path + 'Animval.xlsx'\n",
    "\n",
    "create_file(animals_file_path, [\"Кличка\", \"Дата появления\", \"Вид\",\"Зрелость\", \"Вес\", \"Рост\", \"Пол\"], num_rows, animal_generator)"
   ]
  },
  {
   "cell_type": "markdown",
   "id": "afc44165-6fbb-4b0c-b423-5183cb2118ee",
   "metadata": {},
   "source": [
    "### Обзор данных"
   ]
  },
  {
   "cell_type": "code",
   "execution_count": 14,
   "id": "4e623822-107b-4856-a45b-0a3b2301f283",
   "metadata": {},
   "outputs": [],
   "source": [
    "dt_gd = pd.read_excel(\"C:/Users/tzeen/Documents/DataFiles/Animval.xlsx\")\n"
   ]
  },
  {
   "cell_type": "code",
   "execution_count": 15,
   "id": "06cf8d24-e114-4dcb-9f02-f461aa8020cc",
   "metadata": {},
   "outputs": [
    {
     "name": "stdout",
     "output_type": "stream",
     "text": [
      "<class 'pandas.core.frame.DataFrame'>\n",
      "RangeIndex: 525 entries, 0 to 524\n",
      "Data columns (total 7 columns):\n",
      " #   Column          Non-Null Count  Dtype  \n",
      "---  ------          --------------  -----  \n",
      " 0   Кличка          525 non-null    object \n",
      " 1   Дата появления  525 non-null    object \n",
      " 2   Вид             525 non-null    object \n",
      " 3   Зрелость        525 non-null    int64  \n",
      " 4   Вес             525 non-null    float64\n",
      " 5   Рост            525 non-null    float64\n",
      " 6   Пол             525 non-null    object \n",
      "dtypes: float64(2), int64(1), object(4)\n",
      "memory usage: 28.8+ KB\n"
     ]
    }
   ],
   "source": [
    "dt_gd.info()"
   ]
  },
  {
   "cell_type": "code",
   "execution_count": 16,
   "id": "e6c297c7-16ff-4da2-9092-e32d70b926ed",
   "metadata": {},
   "outputs": [
    {
     "data": {
      "text/html": [
       "<div>\n",
       "<style scoped>\n",
       "    .dataframe tbody tr th:only-of-type {\n",
       "        vertical-align: middle;\n",
       "    }\n",
       "\n",
       "    .dataframe tbody tr th {\n",
       "        vertical-align: top;\n",
       "    }\n",
       "\n",
       "    .dataframe thead th {\n",
       "        text-align: right;\n",
       "    }\n",
       "</style>\n",
       "<table border=\"1\" class=\"dataframe\">\n",
       "  <thead>\n",
       "    <tr style=\"text-align: right;\">\n",
       "      <th></th>\n",
       "      <th>Кличка</th>\n",
       "      <th>Дата появления</th>\n",
       "      <th>Вид</th>\n",
       "      <th>Зрелость</th>\n",
       "      <th>Вес</th>\n",
       "      <th>Рост</th>\n",
       "      <th>Пол</th>\n",
       "    </tr>\n",
       "  </thead>\n",
       "  <tbody>\n",
       "    <tr>\n",
       "      <th>0</th>\n",
       "      <td>Samantha Mayo</td>\n",
       "      <td>1980-09-17T19:14:49</td>\n",
       "      <td>Chinese Alligator</td>\n",
       "      <td>1</td>\n",
       "      <td>37.97</td>\n",
       "      <td>45.50</td>\n",
       "      <td>Female</td>\n",
       "    </tr>\n",
       "    <tr>\n",
       "      <th>1</th>\n",
       "      <td>Amy Whitney</td>\n",
       "      <td>1980-11-13T18:42:11</td>\n",
       "      <td>Chinese Alligator</td>\n",
       "      <td>1</td>\n",
       "      <td>34.20</td>\n",
       "      <td>208.72</td>\n",
       "      <td>Female</td>\n",
       "    </tr>\n",
       "    <tr>\n",
       "      <th>2</th>\n",
       "      <td>Jeffrey Hughes</td>\n",
       "      <td>2018-01-05T21:57:20</td>\n",
       "      <td>Chinese Alligator</td>\n",
       "      <td>0</td>\n",
       "      <td>4.34</td>\n",
       "      <td>4.64</td>\n",
       "      <td>Male</td>\n",
       "    </tr>\n",
       "  </tbody>\n",
       "</table>\n",
       "</div>"
      ],
      "text/plain": [
       "           Кличка       Дата появления                Вид  Зрелость    Вес  \\\n",
       "0   Samantha Mayo  1980-09-17T19:14:49  Chinese Alligator         1  37.97   \n",
       "1     Amy Whitney  1980-11-13T18:42:11  Chinese Alligator         1  34.20   \n",
       "2  Jeffrey Hughes  2018-01-05T21:57:20  Chinese Alligator         0   4.34   \n",
       "\n",
       "     Рост     Пол  \n",
       "0   45.50  Female  \n",
       "1  208.72  Female  \n",
       "2    4.64    Male  "
      ]
     },
     "execution_count": 16,
     "metadata": {},
     "output_type": "execute_result"
    }
   ],
   "source": [
    "dt_gd.head(3)"
   ]
  },
  {
   "cell_type": "code",
   "execution_count": 17,
   "id": "bb71b03f-254e-4b2f-9307-d2e321dd959c",
   "metadata": {},
   "outputs": [
    {
     "data": {
      "text/html": [
       "<div>\n",
       "<style scoped>\n",
       "    .dataframe tbody tr th:only-of-type {\n",
       "        vertical-align: middle;\n",
       "    }\n",
       "\n",
       "    .dataframe tbody tr th {\n",
       "        vertical-align: top;\n",
       "    }\n",
       "\n",
       "    .dataframe thead th {\n",
       "        text-align: right;\n",
       "    }\n",
       "</style>\n",
       "<table border=\"1\" class=\"dataframe\">\n",
       "  <thead>\n",
       "    <tr style=\"text-align: right;\">\n",
       "      <th></th>\n",
       "      <th>Кличка</th>\n",
       "      <th>Дата появления</th>\n",
       "      <th>Вид</th>\n",
       "      <th>Зрелость</th>\n",
       "      <th>Вес</th>\n",
       "      <th>Рост</th>\n",
       "      <th>Пол</th>\n",
       "    </tr>\n",
       "  </thead>\n",
       "  <tbody>\n",
       "    <tr>\n",
       "      <th>522</th>\n",
       "      <td>Patricia Smith</td>\n",
       "      <td>1996-11-15T03:17:51</td>\n",
       "      <td>Giraffa camelopardalis</td>\n",
       "      <td>1</td>\n",
       "      <td>719.64</td>\n",
       "      <td>425.92</td>\n",
       "      <td>Male</td>\n",
       "    </tr>\n",
       "    <tr>\n",
       "      <th>523</th>\n",
       "      <td>Stanley Valdez DVM</td>\n",
       "      <td>2011-04-26T18:06:16</td>\n",
       "      <td>Giraffa camelopardalis</td>\n",
       "      <td>1</td>\n",
       "      <td>659.82</td>\n",
       "      <td>239.33</td>\n",
       "      <td>Female</td>\n",
       "    </tr>\n",
       "    <tr>\n",
       "      <th>524</th>\n",
       "      <td>Mark Joyce</td>\n",
       "      <td>2008-05-25T08:24:39</td>\n",
       "      <td>Giraffa camelopardalis</td>\n",
       "      <td>1</td>\n",
       "      <td>958.47</td>\n",
       "      <td>235.12</td>\n",
       "      <td>Male</td>\n",
       "    </tr>\n",
       "  </tbody>\n",
       "</table>\n",
       "</div>"
      ],
      "text/plain": [
       "                 Кличка       Дата появления                     Вид  \\\n",
       "522      Patricia Smith  1996-11-15T03:17:51  Giraffa camelopardalis   \n",
       "523  Stanley Valdez DVM  2011-04-26T18:06:16  Giraffa camelopardalis   \n",
       "524          Mark Joyce  2008-05-25T08:24:39  Giraffa camelopardalis   \n",
       "\n",
       "     Зрелость     Вес    Рост     Пол  \n",
       "522         1  719.64  425.92    Male  \n",
       "523         1  659.82  239.33  Female  \n",
       "524         1  958.47  235.12    Male  "
      ]
     },
     "execution_count": 17,
     "metadata": {},
     "output_type": "execute_result"
    }
   ],
   "source": [
    "dt_gd.tail(3)"
   ]
  },
  {
   "cell_type": "markdown",
   "id": "571b5fae-611f-44a7-a77d-ae009571d2d2",
   "metadata": {},
   "source": [
    "## Анализ данных"
   ]
  },
  {
   "cell_type": "code",
   "execution_count": 33,
   "id": "ca61d1fa-95cb-4cb2-b176-f4095e019e7a",
   "metadata": {},
   "outputs": [
    {
     "data": {
      "image/png": "[encoded data removed]",
      "text/plain": [
       "<Figure size 3000x1000 with 1 Axes>"
      ]
     },
     "metadata": {},
     "output_type": "display_data"
    }
   ],
   "source": [
    "dt_gd_child = dt_gd[dt_gd['Зрелость'] == False]\n",
    "\n",
    "dt_gd_child_mean = dt_gd_child.groupby('Вид')['Рост'].mean().reset_index()\n",
    "\n",
    "mean_height_by_species_sorted = dt_gd_child_mean.sort_values(by='Рост', ascending=False)[:10]\n",
    "\n",
    "plt.figure(figsize=(30, 10))\n",
    "sns.barplot(x='Рост', y='Вид', hue='Вид', data=mean_height_by_species_sorted, palette='viridis', legend=False)\n",
    "plt.xlabel('Рост')\n",
    "plt.ylabel('Вид')\n",
    "plt.title('Рост детей')\n",
    "plt.show()"
   ]
  },
  {
   "cell_type": "code",
   "execution_count": 34,
   "id": "94138b1b-6baf-4956-ad37-b95b47f5a69b",
   "metadata": {},
   "outputs": [
    {
     "data": {
      "image/png": "[encoded data removed]",
      "text/plain": [
       "<Figure size 3000x1000 with 1 Axes>"
      ]
     },
     "metadata": {},
     "output_type": "display_data"
    }
   ],
   "source": [
    "dt_gd_adult = dt_gd[dt_gd['Зрелость'] == True]\n",
    "\n",
    "dt_gd_adult_mean = dt_gd_adult.groupby('Вид')['Рост'].mean().reset_index()\n",
    "\n",
    "mean_height_by_species_sorted = dt_gd_adult_mean.sort_values(by='Рост', ascending = False)[:10]\n",
    "\n",
    "plt.figure(figsize=(30, 10))\n",
    "sns.barplot(x='Рост', y='Вид', hue='Вид', data=mean_height_by_species_sorted, palette='viridis', legend=False)\n",
    "plt.xlabel('Рост')\n",
    "plt.ylabel('Вид')\n",
    "plt.title('Рост взрослых')\n",
    "plt.show()"
   ]
  },
  {
   "cell_type": "code",
   "execution_count": 20,
   "id": "d0554ad2-b0a6-4869-978f-b469c7d9f1d0",
   "metadata": {},
   "outputs": [
    {
     "data": {
      "image/png": "[encoded data removed]",
      "text/plain": [
       "<Figure size 1100x1100 with 1 Axes>"
      ]
     },
     "metadata": {},
     "output_type": "display_data"
    }
   ],
   "source": [
    "mature_counts = dt_gd['Зрелость'].value_counts()\n",
    "\n",
    "label_mapping = {1: 'Зрелые', 0: 'Незрелые'}\n",
    "mature_counts.index = mature_counts.index.map(label_mapping)\n",
    "plt.figure(figsize=(11, 11), facecolor='lightBlue')\n",
    "plt.pie(mature_counts, labels=mature_counts.index, autopct='%1.01f%%', startangle=270, colors=['LightGreen', 'green'])\n",
    "plt.title('Mature')\n",
    "plt.show()"
   ]
  },
  {
   "cell_type": "code",
   "execution_count": 35,
   "id": "e256fbcb-5d5b-492f-bb0f-563100138bd4",
   "metadata": {},
   "outputs": [
    {
     "data": {
      "image/png": "[encoded data removed]",
      "text/plain": [
       "<Figure size 1000x600 with 1 Axes>"
      ]
     },
     "metadata": {},
     "output_type": "display_data"
    }
   ],
   "source": [
    "\n",
    "weights = dt_gd['Вес']\n",
    "\n",
    "\n",
    "plt.figure(figsize=(10, 6))\n",
    "plt.hist(weights, bins=[0, 15, 30, 45, 60, 75, 90, 105, 120, 135], color='skyblue', edgecolor='black')  \n",
    "\n",
    "\n",
    "median_weight = np.median(weights)\n",
    "plt.axvline(median_weight, color='red', linestyle='dashed', linewidth=2, label=f'Median: {median_weight}')\n",
    "\n",
    "\n",
    "mean_weight = np.mean(weights)\n",
    "plt.axvline(mean_weight, color='green', linestyle='dashed', linewidth=2, label=f'Mean: {mean_weight}')\n",
    "\n",
    "\n",
    "mode_result = stats.mode(weights)\n",
    "mode_weight = np.atleast_1d(mode_result.mode)[0] if np.atleast_1d(mode_result.mode).size > 0 else None\n",
    "\n",
    "if mode_weight is not None:\n",
    "    plt.axvline(mode_weight, color='blue', linestyle='dashed', linewidth=2, label=f'Mode: {mode_weight}')\n",
    "\n",
    "plt.legend()\n",
    "\n",
    "plt.title('Распределение веса животных в зоопарке с медианой, средним и модой')\n",
    "plt.xlabel('Вес (кг)')\n",
    "plt.ylabel('Количество животных')\n",
    "plt.show()"
   ]
  },
  {
   "cell_type": "code",
   "execution_count": 22,
   "id": "9d7eb23c-ca15-4978-a780-077dace24fdc",
   "metadata": {},
   "outputs": [
    {
     "data": {
      "text/html": [
       "<div>\n",
       "<style scoped>\n",
       "    .dataframe tbody tr th:only-of-type {\n",
       "        vertical-align: middle;\n",
       "    }\n",
       "\n",
       "    .dataframe tbody tr th {\n",
       "        vertical-align: top;\n",
       "    }\n",
       "\n",
       "    .dataframe thead th {\n",
       "        text-align: right;\n",
       "    }\n",
       "</style>\n",
       "<table border=\"1\" class=\"dataframe\">\n",
       "  <thead>\n",
       "    <tr style=\"text-align: right;\">\n",
       "      <th></th>\n",
       "      <th>Зрелость</th>\n",
       "      <th>Вес</th>\n",
       "      <th>Рост</th>\n",
       "    </tr>\n",
       "  </thead>\n",
       "  <tbody>\n",
       "    <tr>\n",
       "      <th>count</th>\n",
       "      <td>525.000000</td>\n",
       "      <td>525.000000</td>\n",
       "      <td>525.000000</td>\n",
       "    </tr>\n",
       "    <tr>\n",
       "      <th>mean</th>\n",
       "      <td>0.723810</td>\n",
       "      <td>36.243714</td>\n",
       "      <td>55.738952</td>\n",
       "    </tr>\n",
       "    <tr>\n",
       "      <th>std</th>\n",
       "      <td>0.447539</td>\n",
       "      <td>171.524618</td>\n",
       "      <td>63.745100</td>\n",
       "    </tr>\n",
       "    <tr>\n",
       "      <th>min</th>\n",
       "      <td>0.000000</td>\n",
       "      <td>0.020000</td>\n",
       "      <td>1.100000</td>\n",
       "    </tr>\n",
       "    <tr>\n",
       "      <th>25%</th>\n",
       "      <td>0.000000</td>\n",
       "      <td>0.470000</td>\n",
       "      <td>14.970000</td>\n",
       "    </tr>\n",
       "    <tr>\n",
       "      <th>50%</th>\n",
       "      <td>1.000000</td>\n",
       "      <td>1.040000</td>\n",
       "      <td>36.150000</td>\n",
       "    </tr>\n",
       "    <tr>\n",
       "      <th>75%</th>\n",
       "      <td>1.000000</td>\n",
       "      <td>5.650000</td>\n",
       "      <td>69.580000</td>\n",
       "    </tr>\n",
       "    <tr>\n",
       "      <th>max</th>\n",
       "      <td>1.000000</td>\n",
       "      <td>2793.510000</td>\n",
       "      <td>490.760000</td>\n",
       "    </tr>\n",
       "  </tbody>\n",
       "</table>\n",
       "</div>"
      ],
      "text/plain": [
       "         Зрелость          Вес        Рост\n",
       "count  525.000000   525.000000  525.000000\n",
       "mean     0.723810    36.243714   55.738952\n",
       "std      0.447539   171.524618   63.745100\n",
       "min      0.000000     0.020000    1.100000\n",
       "25%      0.000000     0.470000   14.970000\n",
       "50%      1.000000     1.040000   36.150000\n",
       "75%      1.000000     5.650000   69.580000\n",
       "max      1.000000  2793.510000  490.760000"
      ]
     },
     "execution_count": 22,
     "metadata": {},
     "output_type": "execute_result"
    }
   ],
   "source": [
    "dt_gd.describe()"
   ]
  },
  {
   "cell_type": "markdown",
   "id": "063718a2-25d4-4bc5-9f23-ac8ebcb221a3",
   "metadata": {},
   "source": [
    "## Вывод"
   ]
  },
  {
   "cell_type": "markdown",
   "id": "3a626e9c-80f1-4b34-b79c-0b9bfe23b601",
   "metadata": {},
   "source": [
    "График показывет, что хотя средний вес животных в зоопарке составляет около 36.24 кг, типичный вес, представленный медианным значением в 1.04 кг, значительно меньше. Это может указывать на то, что в зоопарке присутствует небольшое количество крупных животных, чей вес значительно выше среднего. Оптимизация плана питания, учитывая типичный вес животных, может помочь сбалансировать рационы и уменьшить излишнюю потребность в корме, что в свою очередь снизит расходы и поможет поддерживать здоровье животных в зоопарке.\n",
    "\n",
    "Исходя из сравнения данных о росте детенышей и взрослых особей жирафов, становится очевидным, что для детей необходимо предоставлять более просторные условия содержания. \n",
    "\n",
    "Оба параметра \"Вес\" и \"Рост\" имеют правую асимметрию, что может быть вызвано наличием выбросов или экстремальных значений в данных"
   ]
  },
  {
   "cell_type": "markdown",
   "id": "d5b6505e-863e-4010-829c-bd48ed8e285a",
   "metadata": {},
   "source": [
    "### БД"
   ]
  },
  {
   "cell_type": "code",
   "execution_count": 23,
   "id": "d9d3820b-f476-424d-9654-cea3cdb81d51",
   "metadata": {},
   "outputs": [],
   "source": [
    "s_species = dt_gd['Вид'].unique()"
   ]
  },
  {
   "cell_type": "code",
   "execution_count": 24,
   "id": "44884342-52a1-426d-a945-a1eacfcff168",
   "metadata": {},
   "outputs": [],
   "source": [
    "random_bools = np.random.choice([True, False], size=len(s_species))\n",
    "\n",
    "random_series = pd.Series(random_bools, name='Is_Species')\n",
    "\n",
    "opposite_series = ~random_series\n",
    "\n",
    "id_series = [i for i in range(0, len(s_species))]\n"
   ]
  },
  {
   "cell_type": "code",
   "execution_count": 25,
   "id": "fb983ccf-ebac-45ea-9f4a-ba42b509c26c",
   "metadata": {
    "scrolled": true
   },
   "outputs": [],
   "source": [
    " df_specie_insert = pd.DataFrame({ 'Id': id_series,'name': s_species, 'warm_aviary': random_series,  'is_predator': opposite_series,})"
   ]
  },
  {
   "cell_type": "code",
   "execution_count": 26,
   "id": "5aba95b1-696b-448d-ac62-ca6f643688fa",
   "metadata": {
    "scrolled": true
   },
   "outputs": [
    {
     "name": "stdout",
     "output_type": "stream",
     "text": [
      "    Id                     name  warm_aviary  is_predator\n",
      "0    0        Chinese Alligator        False         True\n",
      "1    1        Venezuelan Amazon        False         True\n",
      "2    2      Yellow-faced Amazon        False         True\n",
      "3    3        Blue-faced Amazon         True        False\n",
      "4    4  White-tailed wildebeest         True        False\n",
      "..  ..                      ...          ...          ...\n",
      "70  70                  Gorilla        False         True\n",
      "71  71                   Aquila         True        False\n",
      "72  72             Macropodidae         True        False\n",
      "73  73              Equus zebra         True        False\n",
      "74  74   Giraffa camelopardalis        False         True\n",
      "\n",
      "[75 rows x 4 columns]\n"
     ]
    }
   ],
   "source": [
    "print(df_specie_insert)"
   ]
  },
  {
   "cell_type": "code",
   "execution_count": 27,
   "id": "9b0cc2ee-a1a0-4530-b3de-96885021f583",
   "metadata": {},
   "outputs": [],
   "source": [
    "with open('C:/Users/tzeen/Documents/DataFiles/Create_zoo_script.txt', 'r', encoding='utf-8') as file:\n",
    "    sql_create_script = file.read()"
   ]
  },
  {
   "cell_type": "code",
   "execution_count": 28,
   "id": "8787c258-13e6-4abf-89f8-31c7711d605e",
   "metadata": {},
   "outputs": [],
   "source": [
    "connection = psql.connect(\n",
    "    dbname=\"zoo_database\",\n",
    "    user=\"postgres\",\n",
    "    password=\"1345\",\n",
    "    host=\"localhost\",\n",
    ")\n",
    "\n",
    "cursor = connection.cursor()\n",
    "\n",
    "cursor.execute(sql_create_script)\n",
    "\n",
    "connection.commit()"
   ]
  },
  {
   "cell_type": "code",
   "execution_count": 29,
   "id": "5ae42f22-266c-4806-bc37-3bea35b4211f",
   "metadata": {
    "scrolled": true
   },
   "outputs": [],
   "source": [
    "for index, row in df_specie_insert.iterrows():\n",
    "  sql = \"INSERT INTO zoo.specie(specie_id ,name, is_predator, warm_aviary) VALUES (%s ,%s, %s, %s)\"\n",
    "  cursor.execute(sql, (row['Id'], row['name'], row['is_predator'], row['warm_aviary']))\n",
    "connection.commit()"
   ]
  },
  {
   "cell_type": "code",
   "execution_count": 30,
   "id": "63d46f08-0646-4c68-9564-531c474944b3",
   "metadata": {},
   "outputs": [],
   "source": [
    "cursor.close()\n",
    "connection.close()"
   ]
  }
 ],
 "metadata": {
  "kernelspec": {
   "display_name": "Python 3 (ipykernel)",
   "language": "python",
   "name": "python3"
  },
  "language_info": {
   "codemirror_mode": {
    "name": "ipython",
    "version": 3
   },
   "file_extension": ".py",
   "mimetype": "text/x-python",
   "name": "python",
   "nbconvert_exporter": "python",
   "pygments_lexer": "ipython3",
   "version": "3.12.2"
  }
 },
 "nbformat": 4,
 "nbformat_minor": 5
}
