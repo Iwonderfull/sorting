{
 "cells": [
  {
   "cell_type": "markdown",
   "metadata": {},
   "source": [
    "# Исследование животных зоопрака"
   ]
  },
  {
   "cell_type": "markdown",
   "metadata": {},
   "source": [
    "## Установка зависимостей"
   ]
  },
  {
   "cell_type": "markdown",
   "metadata": {},
   "source": [
    "В следующей ячейке способ установки окружения прямо из ноутбука. <br/>\n",
    "Так можем убедиться в наличии нужных библиотек в случае запуска на другом ПК, где зависимости еще не установлены."
   ]
  },
  {
   "cell_type": "code",
   "execution_count": 60,
   "metadata": {},
   "outputs": [
    {
     "name": "stdout",
     "output_type": "stream",
     "text": [
      "Requirement already satisfied: pandas in /home/ivan/.pyenv/versions/3.8.16/envs/students/lib/python3.8/site-packages (2.0.3)\n",
      "Requirement already satisfied: matplotlib in /home/ivan/.pyenv/versions/3.8.16/envs/students/lib/python3.8/site-packages (3.7.4)\n",
      "Requirement already satisfied: seaborn in /home/ivan/.pyenv/versions/3.8.16/envs/students/lib/python3.8/site-packages (0.13.2)\n",
      "Requirement already satisfied: openpyxl in /home/ivan/.pyenv/versions/3.8.16/envs/students/lib/python3.8/site-packages (3.1.2)\n",
      "Requirement already satisfied: faker in /home/ivan/.pyenv/versions/3.8.16/envs/students/lib/python3.8/site-packages (24.0.0)\n",
      "Requirement already satisfied: pendulum in /home/ivan/.pyenv/versions/3.8.16/envs/students/lib/python3.8/site-packages (3.0.0)\n",
      "Requirement already satisfied: python-dateutil>=2.8.2 in /home/ivan/.pyenv/versions/3.8.16/envs/students/lib/python3.8/site-packages (from pandas) (2.8.2)\n",
      "Requirement already satisfied: pytz>=2020.1 in /home/ivan/.pyenv/versions/3.8.16/envs/students/lib/python3.8/site-packages (from pandas) (2024.1)\n",
      "Requirement already satisfied: tzdata>=2022.1 in /home/ivan/.pyenv/versions/3.8.16/envs/students/lib/python3.8/site-packages (from pandas) (2023.4)\n",
      "Requirement already satisfied: numpy>=1.20.3 in /home/ivan/.pyenv/versions/3.8.16/envs/students/lib/python3.8/site-packages (from pandas) (1.24.4)\n",
      "Requirement already satisfied: contourpy>=1.0.1 in /home/ivan/.pyenv/versions/3.8.16/envs/students/lib/python3.8/site-packages (from matplotlib) (1.1.1)\n",
      "Requirement already satisfied: cycler>=0.10 in /home/ivan/.pyenv/versions/3.8.16/envs/students/lib/python3.8/site-packages (from matplotlib) (0.12.1)\n",
      "Requirement already satisfied: fonttools>=4.22.0 in /home/ivan/.pyenv/versions/3.8.16/envs/students/lib/python3.8/site-packages (from matplotlib) (4.48.1)\n",
      "Requirement already satisfied: kiwisolver>=1.0.1 in /home/ivan/.pyenv/versions/3.8.16/envs/students/lib/python3.8/site-packages (from matplotlib) (1.4.5)\n",
      "Requirement already satisfied: packaging>=20.0 in /home/ivan/.pyenv/versions/3.8.16/envs/students/lib/python3.8/site-packages (from matplotlib) (23.2)\n",
      "Requirement already satisfied: pillow>=6.2.0 in /home/ivan/.pyenv/versions/3.8.16/envs/students/lib/python3.8/site-packages (from matplotlib) (10.2.0)\n",
      "Requirement already satisfied: pyparsing>=2.3.1 in /home/ivan/.pyenv/versions/3.8.16/envs/students/lib/python3.8/site-packages (from matplotlib) (3.1.1)\n",
      "Requirement already satisfied: importlib-resources>=3.2.0 in /home/ivan/.pyenv/versions/3.8.16/envs/students/lib/python3.8/site-packages (from matplotlib) (6.1.1)\n",
      "Requirement already satisfied: et-xmlfile in /home/ivan/.pyenv/versions/3.8.16/envs/students/lib/python3.8/site-packages (from openpyxl) (1.1.0)\n",
      "Requirement already satisfied: typing-extensions>=3.10.0.1 in /home/ivan/.pyenv/versions/3.8.16/envs/students/lib/python3.8/site-packages (from faker) (4.9.0)\n",
      "Requirement already satisfied: backports.zoneinfo>=0.2.1 in /home/ivan/.pyenv/versions/3.8.16/envs/students/lib/python3.8/site-packages (from pendulum) (0.2.1)\n",
      "Requirement already satisfied: time-machine>=2.6.0 in /home/ivan/.pyenv/versions/3.8.16/envs/students/lib/python3.8/site-packages (from pendulum) (2.14.0)\n",
      "Requirement already satisfied: zipp>=3.1.0 in /home/ivan/.pyenv/versions/3.8.16/envs/students/lib/python3.8/site-packages (from importlib-resources>=3.2.0->matplotlib) (3.17.0)\n",
      "Requirement already satisfied: six>=1.5 in /home/ivan/.pyenv/versions/3.8.16/envs/students/lib/python3.8/site-packages (from python-dateutil>=2.8.2->pandas) (1.16.0)\n",
      "Note: you may need to restart the kernel to use updated packages.\n"
     ]
    }
   ],
   "source": [
    "%pip install pandas matplotlib seaborn openpyxl faker pendulum"
   ]
  },
  {
   "cell_type": "markdown",
   "metadata": {},
   "source": [
    "## Импорт библиотек"
   ]
  },
  {
   "cell_type": "code",
   "execution_count": 61,
   "metadata": {},
   "outputs": [],
   "source": [
    "# standard libraries\n",
    "from pathlib import Path\n",
    "from functools import partial\n",
    "import random\n",
    "# third party libs\n",
    "import pendulum\n",
    "import pandas as pd\n",
    "import seaborn as sns\n",
    "import matplotlib.pyplot as plt\n",
    "from faker import Faker\n",
    "import matplotlib_inline\n",
    "# my custom libs if exists\n",
    "# ..."
   ]
  },
  {
   "cell_type": "markdown",
   "metadata": {},
   "source": [
    "## Настройка окружения"
   ]
  },
  {
   "cell_type": "code",
   "execution_count": 62,
   "metadata": {},
   "outputs": [],
   "source": [
    "sns.set_style(\"darkgrid\")\n",
    "fake = Faker()"
   ]
  },
  {
   "cell_type": "markdown",
   "metadata": {},
   "source": [
    "## Обзор данных"
   ]
  },
  {
   "cell_type": "code",
   "execution_count": 63,
   "metadata": {},
   "outputs": [],
   "source": [
    "# animals_path = Path(\"~/datasets/students/Animals.xlsx\")\n",
    "species_data_path = Path(\"~/datasets/students/specie_data.xlsx\")"
   ]
  },
  {
   "cell_type": "code",
   "execution_count": 64,
   "metadata": {},
   "outputs": [
    {
     "data": {
      "text/html": [
       "<div>\n",
       "<style scoped>\n",
       "    .dataframe tbody tr th:only-of-type {\n",
       "        vertical-align: middle;\n",
       "    }\n",
       "\n",
       "    .dataframe tbody tr th {\n",
       "        vertical-align: top;\n",
       "    }\n",
       "\n",
       "    .dataframe thead th {\n",
       "        text-align: right;\n",
       "    }\n",
       "</style>\n",
       "<table border=\"1\" class=\"dataframe\">\n",
       "  <thead>\n",
       "    <tr style=\"text-align: right;\">\n",
       "      <th></th>\n",
       "      <th>Species</th>\n",
       "      <th>Adult height</th>\n",
       "      <th>Child's height</th>\n",
       "      <th>Adult weight</th>\n",
       "      <th>Child's weight</th>\n",
       "      <th>Lifespan</th>\n",
       "    </tr>\n",
       "  </thead>\n",
       "  <tbody>\n",
       "    <tr>\n",
       "      <th>73</th>\n",
       "      <td>Equus zebra</td>\n",
       "      <td>200.0</td>\n",
       "      <td>80.0</td>\n",
       "      <td>400.00</td>\n",
       "      <td>20.000</td>\n",
       "      <td>30</td>\n",
       "    </tr>\n",
       "    <tr>\n",
       "      <th>61</th>\n",
       "      <td>White-breasted hedgehog</td>\n",
       "      <td>29.0</td>\n",
       "      <td>5.8</td>\n",
       "      <td>0.90</td>\n",
       "      <td>0.090</td>\n",
       "      <td>4</td>\n",
       "    </tr>\n",
       "    <tr>\n",
       "      <th>40</th>\n",
       "      <td>Pink Flamingo</td>\n",
       "      <td>145.0</td>\n",
       "      <td>29.0</td>\n",
       "      <td>3.50</td>\n",
       "      <td>0.350</td>\n",
       "      <td>50</td>\n",
       "    </tr>\n",
       "    <tr>\n",
       "      <th>0</th>\n",
       "      <td>Chinese Alligator</td>\n",
       "      <td>220.0</td>\n",
       "      <td>44.0</td>\n",
       "      <td>45.00</td>\n",
       "      <td>4.500</td>\n",
       "      <td>50</td>\n",
       "    </tr>\n",
       "    <tr>\n",
       "      <th>31</th>\n",
       "      <td>Shiloklyovka</td>\n",
       "      <td>48.0</td>\n",
       "      <td>9.6</td>\n",
       "      <td>0.32</td>\n",
       "      <td>0.032</td>\n",
       "      <td>15</td>\n",
       "    </tr>\n",
       "    <tr>\n",
       "      <th>46</th>\n",
       "      <td>Fennec</td>\n",
       "      <td>40.0</td>\n",
       "      <td>8.0</td>\n",
       "      <td>1.50</td>\n",
       "      <td>0.150</td>\n",
       "      <td>20</td>\n",
       "    </tr>\n",
       "    <tr>\n",
       "      <th>22</th>\n",
       "      <td>Lowland Gorilla</td>\n",
       "      <td>165.0</td>\n",
       "      <td>33.0</td>\n",
       "      <td>130.00</td>\n",
       "      <td>13.000</td>\n",
       "      <td>50</td>\n",
       "    </tr>\n",
       "    <tr>\n",
       "      <th>13</th>\n",
       "      <td>Bristly Armadillo</td>\n",
       "      <td>38.0</td>\n",
       "      <td>7.6</td>\n",
       "      <td>0.90</td>\n",
       "      <td>0.090</td>\n",
       "      <td>16</td>\n",
       "    </tr>\n",
       "    <tr>\n",
       "      <th>72</th>\n",
       "      <td>Macropodidae</td>\n",
       "      <td>200.0</td>\n",
       "      <td>40.0</td>\n",
       "      <td>50.00</td>\n",
       "      <td>3.000</td>\n",
       "      <td>50</td>\n",
       "    </tr>\n",
       "    <tr>\n",
       "      <th>50</th>\n",
       "      <td>Fire-backed Pheasant</td>\n",
       "      <td>70.0</td>\n",
       "      <td>14.0</td>\n",
       "      <td>1.20</td>\n",
       "      <td>0.120</td>\n",
       "      <td>12</td>\n",
       "    </tr>\n",
       "  </tbody>\n",
       "</table>\n",
       "</div>"
      ],
      "text/plain": [
       "                    Species  Adult height  Child's height  Adult weight  \\\n",
       "73              Equus zebra         200.0            80.0        400.00   \n",
       "61  White-breasted hedgehog          29.0             5.8          0.90   \n",
       "40            Pink Flamingo         145.0            29.0          3.50   \n",
       "0         Chinese Alligator         220.0            44.0         45.00   \n",
       "31             Shiloklyovka          48.0             9.6          0.32   \n",
       "46                   Fennec          40.0             8.0          1.50   \n",
       "22          Lowland Gorilla         165.0            33.0        130.00   \n",
       "13        Bristly Armadillo          38.0             7.6          0.90   \n",
       "72             Macropodidae         200.0            40.0         50.00   \n",
       "50     Fire-backed Pheasant          70.0            14.0          1.20   \n",
       "\n",
       "    Child's weight  Lifespan  \n",
       "73          20.000        30  \n",
       "61           0.090         4  \n",
       "40           0.350        50  \n",
       "0            4.500        50  \n",
       "31           0.032        15  \n",
       "46           0.150        20  \n",
       "22          13.000        50  \n",
       "13           0.090        16  \n",
       "72           3.000        50  \n",
       "50           0.120        12  "
      ]
     },
     "execution_count": 64,
     "metadata": {},
     "output_type": "execute_result"
    }
   ],
   "source": [
    "species = pd.read_excel(species_data_path)\n",
    "species.sample(10) # Выбрать 10 случайных строк"
   ]
  },
  {
   "cell_type": "code",
   "execution_count": 65,
   "metadata": {},
   "outputs": [
    {
     "name": "stdout",
     "output_type": "stream",
     "text": [
      "<class 'pandas.core.frame.DataFrame'>\n",
      "RangeIndex: 75 entries, 0 to 74\n",
      "Data columns (total 6 columns):\n",
      " #   Column          Non-Null Count  Dtype  \n",
      "---  ------          --------------  -----  \n",
      " 0   Species         75 non-null     object \n",
      " 1   Adult height    75 non-null     float64\n",
      " 2   Child's height  75 non-null     float64\n",
      " 3   Adult weight    75 non-null     float64\n",
      " 4   Child's weight  75 non-null     float64\n",
      " 5   Lifespan        75 non-null     int64  \n",
      "dtypes: float64(4), int64(1), object(1)\n",
      "memory usage: 3.6+ KB\n"
     ]
    }
   ],
   "source": [
    "species.info()"
   ]
  },
  {
   "cell_type": "code",
   "execution_count": 66,
   "metadata": {},
   "outputs": [
    {
     "data": {
      "text/html": [
       "<div>\n",
       "<style scoped>\n",
       "    .dataframe tbody tr th:only-of-type {\n",
       "        vertical-align: middle;\n",
       "    }\n",
       "\n",
       "    .dataframe tbody tr th {\n",
       "        vertical-align: top;\n",
       "    }\n",
       "\n",
       "    .dataframe thead th {\n",
       "        text-align: right;\n",
       "    }\n",
       "</style>\n",
       "<table border=\"1\" class=\"dataframe\">\n",
       "  <thead>\n",
       "    <tr style=\"text-align: right;\">\n",
       "      <th></th>\n",
       "      <th>Species</th>\n",
       "    </tr>\n",
       "  </thead>\n",
       "  <tbody>\n",
       "    <tr>\n",
       "      <th>count</th>\n",
       "      <td>75</td>\n",
       "    </tr>\n",
       "    <tr>\n",
       "      <th>unique</th>\n",
       "      <td>75</td>\n",
       "    </tr>\n",
       "    <tr>\n",
       "      <th>top</th>\n",
       "      <td>Chinese Alligator</td>\n",
       "    </tr>\n",
       "    <tr>\n",
       "      <th>freq</th>\n",
       "      <td>1</td>\n",
       "    </tr>\n",
       "  </tbody>\n",
       "</table>\n",
       "</div>"
      ],
      "text/plain": [
       "                  Species\n",
       "count                  75\n",
       "unique                 75\n",
       "top     Chinese Alligator\n",
       "freq                    1"
      ]
     },
     "execution_count": 66,
     "metadata": {},
     "output_type": "execute_result"
    }
   ],
   "source": [
    "species.describe(include=\"object\")"
   ]
  },
  {
   "cell_type": "code",
   "execution_count": 67,
   "metadata": {},
   "outputs": [
    {
     "data": {
      "text/html": [
       "<div>\n",
       "<style scoped>\n",
       "    .dataframe tbody tr th:only-of-type {\n",
       "        vertical-align: middle;\n",
       "    }\n",
       "\n",
       "    .dataframe tbody tr th {\n",
       "        vertical-align: top;\n",
       "    }\n",
       "\n",
       "    .dataframe thead th {\n",
       "        text-align: right;\n",
       "    }\n",
       "</style>\n",
       "<table border=\"1\" class=\"dataframe\">\n",
       "  <thead>\n",
       "    <tr style=\"text-align: right;\">\n",
       "      <th></th>\n",
       "      <th>Adult height</th>\n",
       "      <th>Child's height</th>\n",
       "      <th>Adult weight</th>\n",
       "      <th>Child's weight</th>\n",
       "      <th>Lifespan</th>\n",
       "    </tr>\n",
       "  </thead>\n",
       "  <tbody>\n",
       "    <tr>\n",
       "      <th>count</th>\n",
       "      <td>75.00000</td>\n",
       "      <td>75.000000</td>\n",
       "      <td>75.000000</td>\n",
       "      <td>75.000000</td>\n",
       "      <td>75.000000</td>\n",
       "    </tr>\n",
       "    <tr>\n",
       "      <th>mean</th>\n",
       "      <td>115.70000</td>\n",
       "      <td>27.646667</td>\n",
       "      <td>112.260733</td>\n",
       "      <td>7.739407</td>\n",
       "      <td>28.720000</td>\n",
       "    </tr>\n",
       "    <tr>\n",
       "      <th>std</th>\n",
       "      <td>85.45858</td>\n",
       "      <td>30.840366</td>\n",
       "      <td>536.377493</td>\n",
       "      <td>26.439330</td>\n",
       "      <td>17.620289</td>\n",
       "    </tr>\n",
       "    <tr>\n",
       "      <th>min</th>\n",
       "      <td>23.00000</td>\n",
       "      <td>4.600000</td>\n",
       "      <td>0.125000</td>\n",
       "      <td>0.012500</td>\n",
       "      <td>3.000000</td>\n",
       "    </tr>\n",
       "    <tr>\n",
       "      <th>25%</th>\n",
       "      <td>60.00000</td>\n",
       "      <td>11.600000</td>\n",
       "      <td>1.000000</td>\n",
       "      <td>0.100000</td>\n",
       "      <td>15.000000</td>\n",
       "    </tr>\n",
       "    <tr>\n",
       "      <th>50%</th>\n",
       "      <td>90.00000</td>\n",
       "      <td>18.000000</td>\n",
       "      <td>3.500000</td>\n",
       "      <td>0.350000</td>\n",
       "      <td>25.000000</td>\n",
       "    </tr>\n",
       "    <tr>\n",
       "      <th>75%</th>\n",
       "      <td>145.00000</td>\n",
       "      <td>29.000000</td>\n",
       "      <td>40.000000</td>\n",
       "      <td>3.500000</td>\n",
       "      <td>40.000000</td>\n",
       "    </tr>\n",
       "    <tr>\n",
       "      <th>max</th>\n",
       "      <td>500.00000</td>\n",
       "      <td>200.000000</td>\n",
       "      <td>4500.000000</td>\n",
       "      <td>200.000000</td>\n",
       "      <td>80.000000</td>\n",
       "    </tr>\n",
       "  </tbody>\n",
       "</table>\n",
       "</div>"
      ],
      "text/plain": [
       "       Adult height  Child's height  Adult weight  Child's weight   Lifespan\n",
       "count      75.00000       75.000000     75.000000       75.000000  75.000000\n",
       "mean      115.70000       27.646667    112.260733        7.739407  28.720000\n",
       "std        85.45858       30.840366    536.377493       26.439330  17.620289\n",
       "min        23.00000        4.600000      0.125000        0.012500   3.000000\n",
       "25%        60.00000       11.600000      1.000000        0.100000  15.000000\n",
       "50%        90.00000       18.000000      3.500000        0.350000  25.000000\n",
       "75%       145.00000       29.000000     40.000000        3.500000  40.000000\n",
       "max       500.00000      200.000000   4500.000000      200.000000  80.000000"
      ]
     },
     "execution_count": 67,
     "metadata": {},
     "output_type": "execute_result"
    }
   ],
   "source": [
    "species.describe(include=\"number\")"
   ]
  },
  {
   "cell_type": "markdown",
   "metadata": {},
   "source": [
    "__Вывод__:\n",
    "1. ...\n",
    "2. ...\n",
    "\n",
    "Здесь комментарии относительно скошенности, средних значений, диапозона значений, наличия/отсутствия пропусков."
   ]
  },
  {
   "cell_type": "markdown",
   "metadata": {},
   "source": [
    "## Генерация"
   ]
  },
  {
   "cell_type": "code",
   "execution_count": 68,
   "metadata": {},
   "outputs": [],
   "source": [
    "def generate_date(\n",
    "    duration: int,\n",
    "    end_date: str,\n",
    ") -> pendulum.DateTime:\n",
    "    \"\"\"Генерирует случайную дату от `end_date` на отрезке `duration` в сторону прошлого.\n",
    "\n",
    "    Parameters\n",
    "    ----------\n",
    "    duration : int\n",
    "        Отрезок в прошлое длиной в годы\n",
    "    end_date : str\n",
    "        Дата обратного отсчёта\n",
    "\n",
    "    Returns\n",
    "    -------\n",
    "    DateTime\n",
    "        Случайная дата\n",
    "    \"\"\"\n",
    "    end_date = pendulum.parse(end_date)\n",
    "    start_date = end_date.add(years=-duration)\n",
    "    birthday_date = fake.date_time_between(start_date=start_date, end_date=end_date)\n",
    "    # TODO: проверка даты\n",
    "    return birthday_date"
   ]
  },
  {
   "cell_type": "code",
   "execution_count": 69,
   "metadata": {},
   "outputs": [
    {
     "name": "stdout",
     "output_type": "stream",
     "text": [
      "Today is: 2024-03-06 00:00:00\n"
     ]
    },
    {
     "data": {
      "text/html": [
       "<div>\n",
       "<style scoped>\n",
       "    .dataframe tbody tr th:only-of-type {\n",
       "        vertical-align: middle;\n",
       "    }\n",
       "\n",
       "    .dataframe tbody tr th {\n",
       "        vertical-align: top;\n",
       "    }\n",
       "\n",
       "    .dataframe thead th {\n",
       "        text-align: right;\n",
       "    }\n",
       "</style>\n",
       "<table border=\"1\" class=\"dataframe\">\n",
       "  <thead>\n",
       "    <tr style=\"text-align: right;\">\n",
       "      <th></th>\n",
       "      <th>bithday</th>\n",
       "    </tr>\n",
       "  </thead>\n",
       "  <tbody>\n",
       "    <tr>\n",
       "      <th>0</th>\n",
       "      <td>2008-01-07 09:13:30.703957</td>\n",
       "    </tr>\n",
       "    <tr>\n",
       "      <th>1</th>\n",
       "      <td>1972-12-10 01:24:59.864737</td>\n",
       "    </tr>\n",
       "    <tr>\n",
       "      <th>2</th>\n",
       "      <td>2021-01-18 05:56:27.482626</td>\n",
       "    </tr>\n",
       "    <tr>\n",
       "      <th>3</th>\n",
       "      <td>1979-04-14 17:05:24.455406</td>\n",
       "    </tr>\n",
       "    <tr>\n",
       "      <th>4</th>\n",
       "      <td>2006-10-30 08:31:07.879318</td>\n",
       "    </tr>\n",
       "  </tbody>\n",
       "</table>\n",
       "</div>"
      ],
      "text/plain": [
       "                     bithday\n",
       "0 2008-01-07 09:13:30.703957\n",
       "1 1972-12-10 01:24:59.864737\n",
       "2 2021-01-18 05:56:27.482626\n",
       "3 1979-04-14 17:05:24.455406\n",
       "4 2006-10-30 08:31:07.879318"
      ]
     },
     "execution_count": 69,
     "metadata": {},
     "output_type": "execute_result"
    }
   ],
   "source": [
    "# Генерация даты рождения\n",
    "end_date = pendulum.today(\"UTC\").to_datetime_string()\n",
    "print(\"Today is:\", end_date)\n",
    "# Используем силу pandas для создания новой колонки данных\n",
    "# функция map для серий преобразует каждый элемент серии\n",
    "# partial - средство стандартной библиотеки functools, фиксирует часть аргументов функции константными значениями\n",
    "# в случае ниже зафиксировали аргумент end_date функции generate_date\n",
    "bithday = species[\"Lifespan\"].map(partial(generate_date, end_date=end_date)) \n",
    "animals = pd.DataFrame({\"bithday\": bithday})\n",
    "del bithday # принудительно удаляем промежуточный объект из памяти за ненадобностью. \n",
    "animals.head()"
   ]
  },
  {
   "cell_type": "code",
   "execution_count": 89,
   "metadata": {},
   "outputs": [
    {
     "data": {
      "text/html": [
       "<div>\n",
       "<style scoped>\n",
       "    .dataframe tbody tr th:only-of-type {\n",
       "        vertical-align: middle;\n",
       "    }\n",
       "\n",
       "    .dataframe tbody tr th {\n",
       "        vertical-align: top;\n",
       "    }\n",
       "\n",
       "    .dataframe thead th {\n",
       "        text-align: right;\n",
       "    }\n",
       "</style>\n",
       "<table border=\"1\" class=\"dataframe\">\n",
       "  <thead>\n",
       "    <tr style=\"text-align: right;\">\n",
       "      <th></th>\n",
       "      <th>bithday</th>\n",
       "      <th>weight</th>\n",
       "      <th>height</th>\n",
       "      <th>age</th>\n",
       "      <th>spent_life</th>\n",
       "      <th>age_group</th>\n",
       "      <th>life_span</th>\n",
       "    </tr>\n",
       "  </thead>\n",
       "  <tbody>\n",
       "    <tr>\n",
       "      <th>0</th>\n",
       "      <td>2008-01-07 09:13:30.703957</td>\n",
       "      <td>30.93</td>\n",
       "      <td>173.01</td>\n",
       "      <td>16</td>\n",
       "      <td>32</td>\n",
       "      <td>adult</td>\n",
       "      <td>50</td>\n",
       "    </tr>\n",
       "    <tr>\n",
       "      <th>1</th>\n",
       "      <td>1972-12-10 01:24:59.864737</td>\n",
       "      <td>0.14</td>\n",
       "      <td>23.03</td>\n",
       "      <td>52</td>\n",
       "      <td>86</td>\n",
       "      <td>old</td>\n",
       "      <td>60</td>\n",
       "    </tr>\n",
       "    <tr>\n",
       "      <th>2</th>\n",
       "      <td>2021-01-18 05:56:27.482626</td>\n",
       "      <td>0.14</td>\n",
       "      <td>11.26</td>\n",
       "      <td>3</td>\n",
       "      <td>6</td>\n",
       "      <td>child</td>\n",
       "      <td>50</td>\n",
       "    </tr>\n",
       "    <tr>\n",
       "      <th>3</th>\n",
       "      <td>1979-04-14 17:05:24.455406</td>\n",
       "      <td>0.37</td>\n",
       "      <td>28.05</td>\n",
       "      <td>45</td>\n",
       "      <td>64</td>\n",
       "      <td>old</td>\n",
       "      <td>70</td>\n",
       "    </tr>\n",
       "    <tr>\n",
       "      <th>4</th>\n",
       "      <td>2006-10-30 08:31:07.879318</td>\n",
       "      <td>25.07</td>\n",
       "      <td>56.59</td>\n",
       "      <td>18</td>\n",
       "      <td>90</td>\n",
       "      <td>old</td>\n",
       "      <td>20</td>\n",
       "    </tr>\n",
       "  </tbody>\n",
       "</table>\n",
       "</div>"
      ],
      "text/plain": [
       "                     bithday  weight  height  age  spent_life age_group  \\\n",
       "0 2008-01-07 09:13:30.703957   30.93  173.01   16          32     adult   \n",
       "1 1972-12-10 01:24:59.864737    0.14   23.03   52          86       old   \n",
       "2 2021-01-18 05:56:27.482626    0.14   11.26    3           6     child   \n",
       "3 1979-04-14 17:05:24.455406    0.37   28.05   45          64       old   \n",
       "4 2006-10-30 08:31:07.879318   25.07   56.59   18          90       old   \n",
       "\n",
       "   life_span  \n",
       "0         50  \n",
       "1         60  \n",
       "2         50  \n",
       "3         70  \n",
       "4         20  "
      ]
     },
     "execution_count": 89,
     "metadata": {},
     "output_type": "execute_result"
    }
   ],
   "source": [
    "# Создаем новую колонку в таблице animals c весами\n",
    "# Что такое lambda функции: https://habr.com/ru/companies/piter/articles/674234/\n",
    "animals[\"weight\"] = species[[\"Adult weight\", \"Child's weight\"]].apply(lambda s: random.uniform(*s), axis=1).round(2)\n",
    "animals[\"height\"] = species[[\"Adult height\", \"Child's height\"]].apply(lambda s: random.uniform(*s), axis=1).round(2)\n",
    "animals[\"age\"] = pendulum.today(\"UTC\").year - animals[\"bithday\"].dt.year\n",
    "animals[\"life_span\"] = species[\"Lifespan\"]\n",
    "animals[\"spent_life\"] = (animals[\"age\"]*100) // species[\"Lifespan\"]\n",
    "# Так можно разбить на группы по квантилям (quantile) — наиболее общий термин,\n",
    "# который обозначает, значение совпадающее или ниже, чем определенная доля значений данных.\n",
    "# https://ru.wikipedia.org/wiki/Квантиль\n",
    "animals[\"age_group\"] = pd.qcut(animals[\"spent_life\"], 3, labels=[\"child\", \"adult\", \"old\"])\n",
    "animals.head()"
   ]
  },
  {
   "cell_type": "markdown",
   "metadata": {},
   "source": [
    "## Анализ"
   ]
  },
  {
   "cell_type": "code",
   "execution_count": 88,
   "metadata": {},
   "outputs": [
    {
     "data": {
      "image/png": "[encoded data removed]",
      "text/plain": [
       "<Figure size 640x480 with 1 Axes>"
      ]
     },
     "metadata": {},
     "output_type": "display_data"
    }
   ],
   "source": [
    "# https://pandas.pydata.org/docs/reference/api/pandas.DataFrame.query.html#pandas.DataFrame.query\n",
    "ax = sns.histplot(\n",
    "    data=animals.query(\"`age_group` == 'child'\").sort_values(by=\"weight\"), \n",
    "    x=\"weight\",\n",
    ")\n",
    "_ = ax.set_title(\"Child weights histogram\")"
   ]
  },
  {
   "cell_type": "markdown",
   "metadata": {},
   "source": [
    "__Вывод__:\n",
    "1. ...\n",
    "2. ...\n",
    "\n",
    "Здесь комментарии относительно скошенности, средних значений, диапозона значений, наличия/отсутствия пропусков."
   ]
  }
 ],
 "metadata": {
  "kernelspec": {
   "display_name": "students",
   "language": "python",
   "name": "python3"
  },
  "language_info": {
   "codemirror_mode": {
    "name": "ipython",
    "version": 3
   },
   "file_extension": ".py",
   "mimetype": "text/x-python",
   "name": "python",
   "nbconvert_exporter": "python",
   "pygments_lexer": "ipython3",
   "version": "3.8.16"
  }
 },
 "nbformat": 4,
 "nbformat_minor": 2
}
