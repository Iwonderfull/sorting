{
 "cells": [
  {
   "cell_type": "markdown",
   "id": "7c6368202a0445ac",
   "metadata": {
    "collapsed": false
   },
   "source": [
    "<h1>Исследование зоопрака</h1>"
   ]
  },
  {
   "cell_type": "markdown",
   "id": "37b9ce60def98bc",
   "metadata": {
    "collapsed": false
   },
   "source": [
    "<h2>Установка зависимостей</h2>"
   ]
  },
  {
   "cell_type": "code",
   "execution_count": 165,
   "id": "28f9a61e9fb4dc50",
   "metadata": {
    "ExecuteTime": {
     "end_time": "2024-03-25T16:25:04.026119900Z",
     "start_time": "2024-03-25T16:25:00.122787700Z"
    },
    "collapsed": false
   },
   "outputs": [
    {
     "name": "stdout",
     "output_type": "stream",
     "text": [
      "Requirement already satisfied: pandas in c:\\users\\ab54\\desktop\\pythonproject\\.venv\\lib\\site-packages (2.2.1)\n",
      "Requirement already satisfied: matplotlib in c:\\users\\ab54\\desktop\\pythonproject\\.venv\\lib\\site-packages (3.8.3)\n",
      "Requirement already satisfied: seaborn in c:\\users\\ab54\\desktop\\pythonproject\\.venv\\lib\\site-packages (0.13.2)\n",
      "Requirement already satisfied: openpyxl in c:\\users\\ab54\\desktop\\pythonproject\\.venv\\lib\\site-packages (3.1.2)\n",
      "Requirement already satisfied: faker in c:\\users\\ab54\\desktop\\pythonproject\\.venv\\lib\\site-packages (24.3.0)\n",
      "Requirement already satisfied: spicy in c:\\users\\ab54\\desktop\\pythonproject\\.venv\\lib\\site-packages (0.16.0)\n",
      "Requirement already satisfied: psycopg2 in c:\\users\\ab54\\desktop\\pythonproject\\.venv\\lib\\site-packages (2.9.9)\n",
      "Requirement already satisfied: sqlalchemy in c:\\users\\ab54\\desktop\\pythonproject\\.venv\\lib\\site-packages (2.0.29)\n",
      "Requirement already satisfied: pylint in c:\\users\\ab54\\desktop\\pythonproject\\.venv\\lib\\site-packages (3.1.0)\n",
      "Requirement already satisfied: xlsxwriter in c:\\users\\ab54\\desktop\\pythonproject\\.venv\\lib\\site-packages (3.2.0)\n",
      "Note: you may need to restart the kernel to use updated packages.\n"
     ]
    },
    {
     "name": "stderr",
     "output_type": "stream",
     "text": [
      "ERROR: Could not find a version that satisfies the requirement utf8 (from versions: none)\n",
      "ERROR: No matching distribution found for utf8\n",
      "\n",
      "[notice] A new release of pip is available: 23.2.1 -> 24.0\n",
      "[notice] To update, run: python.exe -m pip install --upgrade pip\n"
     ]
    }
   ],
   "source": [
    "%pip install pandas openpyxl faker psycopg2 sqlalchemy pylint xlsxwriter"
   ]
  },
  {
   "cell_type": "markdown",
   "id": "13c7a08d8ca95b3",
   "metadata": {
    "collapsed": false
   },
   "source": [
    "<h2>Импорт библиотек</h2>"
   ]
  },
  {
   "cell_type": "code",
   "execution_count": 134,
   "id": "4c0c577ccf64fbe7",
   "metadata": {
    "ExecuteTime": {
     "end_time": "2024-03-25T15:59:28.332630900Z",
     "start_time": "2024-03-25T15:59:28.246748400Z"
    },
    "collapsed": false
   },
   "outputs": [],
   "source": [
    "from faker import Faker \n",
    "import pandas as pd\n",
    "import psycopg2 as psql\n",
    "from sqlalchemy import create_engine\n",
    "import openpyxl"
   ]
  },
  {
   "cell_type": "markdown",
   "id": "203fa9386b7bfb9a",
   "metadata": {
    "collapsed": false
   },
   "source": [
    "<h2>Настройка окружения</h2>"
   ]
  },
  {
   "cell_type": "code",
   "execution_count": 135,
   "id": "bd161f5bdaf1f131",
   "metadata": {
    "ExecuteTime": {
     "end_time": "2024-03-25T15:59:28.410733900Z",
     "start_time": "2024-03-25T15:59:28.258990400Z"
    },
    "collapsed": false
   },
   "outputs": [],
   "source": [
    "fake = Faker()"
   ]
  },
  {
   "cell_type": "markdown",
   "id": "a5a09ab3f544dea9",
   "metadata": {
    "collapsed": false
   },
   "source": [
    "<h2>Создание классов для генерации данных</h2>"
   ]
  },
  {
   "cell_type": "markdown",
   "id": "30ff5eb83c1f0d5a",
   "metadata": {
    "collapsed": false
   },
   "source": [
    "<h3>Создание класса генератора зоопарков</h3>"
   ]
  },
  {
   "cell_type": "code",
   "execution_count": 136,
   "id": "a957c0e6bdf3827f",
   "metadata": {
    "ExecuteTime": {
     "end_time": "2024-03-25T15:59:28.443833900Z",
     "start_time": "2024-03-25T15:59:28.408733800Z"
    },
    "collapsed": false
   },
   "outputs": [],
   "source": [
    "class ZooparkRowGenerator:\n",
    "    def gen_name(self):\n",
    "        return fake.company()\n",
    "    def gen_country(self):\n",
    "        return fake.country()\n",
    "    def gen_city(self):\n",
    "        return fake.city()\n",
    "    def __iter__(self):\n",
    "        return self\n",
    "    def __next__(self):\n",
    "        name = self.gen_name()\n",
    "        country = self.gen_country()\n",
    "        city = self.gen_city()\n",
    "        row = [name,country,city]\n",
    "        return row"
   ]
  },
  {
   "cell_type": "markdown",
   "id": "14a094d3d785d498",
   "metadata": {
    "collapsed": false
   },
   "source": [
    "<h3>Создание класса генератора поставщиков</h3>"
   ]
  },
  {
   "cell_type": "code",
   "execution_count": 137,
   "id": "61500c629f84424",
   "metadata": {
    "ExecuteTime": {
     "end_time": "2024-03-25T15:59:28.510224700Z",
     "start_time": "2024-03-25T15:59:28.426947100Z"
    },
    "collapsed": false
   },
   "outputs": [],
   "source": [
    "class ProviderRowGenerator:\n",
    "    def gen_name(self):\n",
    "        return fake.company()\n",
    "    def __iter__(self):\n",
    "        return self\n",
    "    def __next__(self):\n",
    "        name = self.gen_name()\n",
    "        row = [name]\n",
    "        return row"
   ]
  },
  {
   "cell_type": "markdown",
   "id": "57a3d56cb75041f0",
   "metadata": {
    "collapsed": false
   },
   "source": [
    "<h3>Создание класса генератора типов еды</h3>"
   ]
  },
  {
   "cell_type": "code",
   "execution_count": 138,
   "id": "baf6915ab65d6924",
   "metadata": {
    "ExecuteTime": {
     "end_time": "2024-03-25T15:59:28.515456600Z",
     "start_time": "2024-03-25T15:59:28.446828100Z"
    },
    "collapsed": false
   },
   "outputs": [],
   "source": [
    "class FoodTypeRowGenerator:\n",
    "    def gen_name(self):\n",
    "        return fake.company()\n",
    "    def __iter__(self):\n",
    "        return self\n",
    "    def __next__(self):\n",
    "        name = self.gen_name()\n",
    "        row = [name]\n",
    "        return row"
   ]
  },
  {
   "cell_type": "markdown",
   "id": "25fb4da07d57d95c",
   "metadata": {
    "collapsed": false
   },
   "source": [
    "<h3>Создание класса генератора еды</h3>"
   ]
  },
  {
   "cell_type": "code",
   "execution_count": 139,
   "id": "9b1dfe9fe1597355",
   "metadata": {
    "ExecuteTime": {
     "end_time": "2024-03-25T15:59:28.599341700Z",
     "start_time": "2024-03-25T15:59:28.466129900Z"
    },
    "collapsed": false
   },
   "outputs": [],
   "source": [
    "class FoodRowGenerator:\n",
    "    def __init__(self, type_foods, n_foods):\n",
    "        self._type_foods = type_foods\n",
    "        self._n_foods = int(n_foods)\n",
    "        self._state_foods = 0\n",
    "        self._state_cur_food = 1\n",
    "    def gen_name(self):\n",
    "        return fake.company()\n",
    "    def __iter__(self):\n",
    "        return self\n",
    "    def __next__(self):\n",
    "        name = self.gen_name()\n",
    "        row = [self._state_foods, name]\n",
    "        self.update_state()\n",
    "        return row\n",
    "    def update_state(self):\n",
    "        if self._state_cur_food == self._n_foods:            \n",
    "            if self._state_foods == len(self._type_foods) - 1:\n",
    "                self._state_cur_food = 1\n",
    "                self._state_foods = 0\n",
    "            else:\n",
    "                self._state_cur_food = 1\n",
    "                self._state_foods += 1\n",
    "        else:\n",
    "            self._state_cur_food += 1"
   ]
  },
  {
   "cell_type": "markdown",
   "id": "53b557447351c4c1",
   "metadata": {
    "collapsed": false
   },
   "source": [
    "<h2>Функция создания файла</h2>"
   ]
  },
  {
   "cell_type": "code",
   "execution_count": 140,
   "id": "2c600381f6389c4e",
   "metadata": {
    "ExecuteTime": {
     "end_time": "2024-03-25T15:59:28.600371400Z",
     "start_time": "2024-03-25T15:59:28.481760500Z"
    },
    "collapsed": false
   },
   "outputs": [],
   "source": [
    "def create_file(file_name, file_path, header,  num_rows, generator):\n",
    "    file = file_path + file_name + '.xlsx'\n",
    "    with pd.ExcelWriter(file, engine='xlsxwriter') as writer:\n",
    "        workbook = writer.book\n",
    "        worksheet = workbook.add_worksheet()\n",
    "        worksheet.write_row(0, 0, header)\n",
    "        for i in range(num_rows):\n",
    "            row_data = next(generator) \n",
    "            worksheet.write_row(i + 1, 0, row_data)"
   ]
  },
  {
   "cell_type": "markdown",
   "id": "c57ec4324f93b79",
   "metadata": {
    "collapsed": false
   },
   "source": [
    "<h2>Генерация данных</h2>"
   ]
  },
  {
   "cell_type": "markdown",
   "id": "ddb9d71468dc105c",
   "metadata": {
    "collapsed": false
   },
   "source": [
    "<h3>Генерация данных зоопарков</h3>"
   ]
  },
  {
   "cell_type": "code",
   "execution_count": 141,
   "id": "30dab4e2f28da74",
   "metadata": {
    "ExecuteTime": {
     "end_time": "2024-03-25T15:59:28.625412100Z",
     "start_time": "2024-03-25T15:59:28.496054300Z"
    },
    "collapsed": false
   },
   "outputs": [],
   "source": [
    "create_file('Zooparks', 'C:/Users/ab54/Desktop/data/', ['Наименование зоопарка', 'Страна', 'Город'], 10, ZooparkRowGenerator())"
   ]
  },
  {
   "cell_type": "markdown",
   "id": "ea986fc1adb8d259",
   "metadata": {
    "collapsed": false
   },
   "source": [
    "<h3>Генерация данных поставщиков</h3>"
   ]
  },
  {
   "cell_type": "code",
   "execution_count": 142,
   "id": "b230b4fb790ac714",
   "metadata": {
    "ExecuteTime": {
     "end_time": "2024-03-25T15:59:28.669072600Z",
     "start_time": "2024-03-25T15:59:28.588543600Z"
    },
    "collapsed": false
   },
   "outputs": [],
   "source": [
    "create_file('Providers', 'C:/Users/ab54/Desktop/data/', ['Наименование поставщика'], 5, ProviderRowGenerator())"
   ]
  },
  {
   "cell_type": "markdown",
   "id": "5fe35631988ae67c",
   "metadata": {
    "collapsed": false
   },
   "source": [
    "<h3>Генерация данных типов еды</h3>"
   ]
  },
  {
   "cell_type": "code",
   "execution_count": 143,
   "id": "42dc4804eb01d92c",
   "metadata": {
    "ExecuteTime": {
     "end_time": "2024-03-25T15:59:28.745855Z",
     "start_time": "2024-03-25T15:59:28.658481300Z"
    },
    "collapsed": false
   },
   "outputs": [],
   "source": [
    "create_file('Types_of_food', 'C:/Users/ab54/Desktop/data/', ['Тип еды'], 5, FoodTypeRowGenerator())"
   ]
  },
  {
   "cell_type": "markdown",
   "id": "906388ab76d8e1e5",
   "metadata": {
    "collapsed": false
   },
   "source": [
    "<h3>Генерация данных еды</h3>"
   ]
  },
  {
   "cell_type": "code",
   "execution_count": 144,
   "id": "32e6a84d2253e1a7",
   "metadata": {
    "ExecuteTime": {
     "end_time": "2024-03-25T15:59:28.844884500Z",
     "start_time": "2024-03-25T15:59:28.736315600Z"
    },
    "collapsed": false
   },
   "outputs": [],
   "source": [
    "dt_types = pd.read_excel('C:/Users/ab54/Desktop/data/Types_of_food.xlsx')\n",
    "create_file('Food', 'C:/Users/ab54/Desktop/data/', ['Тип еды', 'Наименование'], 25, FoodRowGenerator(dt_types, 5))"
   ]
  },
  {
   "cell_type": "markdown",
   "id": "7748edcea72fb54b",
   "metadata": {
    "collapsed": false
   },
   "source": [
    "<h2>Получение сгенерированных данных</h2>"
   ]
  },
  {
   "cell_type": "markdown",
   "id": "703b695c34c8f360",
   "metadata": {
    "collapsed": false
   },
   "source": [
    "<h3>Получение и анализ данных зоопарков</h3>"
   ]
  },
  {
   "cell_type": "code",
   "execution_count": 145,
   "id": "e2a6ac9e2d832cfb",
   "metadata": {
    "ExecuteTime": {
     "end_time": "2024-03-25T15:59:28.901840Z",
     "start_time": "2024-03-25T15:59:28.849386600Z"
    },
    "collapsed": false
   },
   "outputs": [],
   "source": [
    "dt_zooparks = pd.read_excel(\"C:/Users/ab54/Desktop/data/Zooparks.xlsx\")"
   ]
  },
  {
   "cell_type": "code",
   "execution_count": 146,
   "id": "5fe18f450d05365a",
   "metadata": {
    "ExecuteTime": {
     "end_time": "2024-03-25T15:59:28.904216500Z",
     "start_time": "2024-03-25T15:59:28.883696600Z"
    },
    "collapsed": false
   },
   "outputs": [
    {
     "name": "stdout",
     "output_type": "stream",
     "text": [
      "<class 'pandas.core.frame.DataFrame'>\n",
      "RangeIndex: 10 entries, 0 to 9\n",
      "Data columns (total 3 columns):\n",
      " #   Column                 Non-Null Count  Dtype \n",
      "---  ------                 --------------  ----- \n",
      " 0   Наименование зоопарка  10 non-null     object\n",
      " 1   Страна                 10 non-null     object\n",
      " 2   Город                  10 non-null     object\n",
      "dtypes: object(3)\n",
      "memory usage: 372.0+ bytes\n"
     ]
    }
   ],
   "source": [
    "dt_zooparks.info()"
   ]
  },
  {
   "cell_type": "code",
   "execution_count": 147,
   "id": "bdbc1a70101e64d8",
   "metadata": {
    "ExecuteTime": {
     "end_time": "2024-03-25T15:59:29.021359100Z",
     "start_time": "2024-03-25T15:59:28.898498600Z"
    },
    "collapsed": false
   },
   "outputs": [
    {
     "data": {
      "text/html": [
       "<div>\n",
       "<style scoped>\n",
       "    .dataframe tbody tr th:only-of-type {\n",
       "        vertical-align: middle;\n",
       "    }\n",
       "\n",
       "    .dataframe tbody tr th {\n",
       "        vertical-align: top;\n",
       "    }\n",
       "\n",
       "    .dataframe thead th {\n",
       "        text-align: right;\n",
       "    }\n",
       "</style>\n",
       "<table border=\"1\" class=\"dataframe\">\n",
       "  <thead>\n",
       "    <tr style=\"text-align: right;\">\n",
       "      <th></th>\n",
       "      <th>Наименование зоопарка</th>\n",
       "      <th>Страна</th>\n",
       "      <th>Город</th>\n",
       "    </tr>\n",
       "  </thead>\n",
       "  <tbody>\n",
       "    <tr>\n",
       "      <th>count</th>\n",
       "      <td>10</td>\n",
       "      <td>10</td>\n",
       "      <td>10</td>\n",
       "    </tr>\n",
       "    <tr>\n",
       "      <th>unique</th>\n",
       "      <td>10</td>\n",
       "      <td>10</td>\n",
       "      <td>10</td>\n",
       "    </tr>\n",
       "    <tr>\n",
       "      <th>top</th>\n",
       "      <td>Garcia-Lee</td>\n",
       "      <td>Azerbaijan</td>\n",
       "      <td>Loribury</td>\n",
       "    </tr>\n",
       "    <tr>\n",
       "      <th>freq</th>\n",
       "      <td>1</td>\n",
       "      <td>1</td>\n",
       "      <td>1</td>\n",
       "    </tr>\n",
       "  </tbody>\n",
       "</table>\n",
       "</div>"
      ],
      "text/plain": [
       "       Наименование зоопарка      Страна     Город\n",
       "count                     10          10        10\n",
       "unique                    10          10        10\n",
       "top               Garcia-Lee  Azerbaijan  Loribury\n",
       "freq                       1           1         1"
      ]
     },
     "execution_count": 147,
     "metadata": {},
     "output_type": "execute_result"
    }
   ],
   "source": [
    "dt_zooparks.describe()"
   ]
  },
  {
   "cell_type": "markdown",
   "id": "54ebd2a8637bc72e",
   "metadata": {
    "collapsed": false
   },
   "source": [
    "<h3>Получение и анализ данных зоопарков</h3>"
   ]
  },
  {
   "cell_type": "code",
   "execution_count": 148,
   "id": "d414692352865de7",
   "metadata": {
    "ExecuteTime": {
     "end_time": "2024-03-25T15:59:29.056366600Z",
     "start_time": "2024-03-25T15:59:28.927523Z"
    },
    "collapsed": false
   },
   "outputs": [],
   "source": [
    "dt_providers = pd.read_excel(\"C:/Users/ab54/Desktop/data/Providers.xlsx\")"
   ]
  },
  {
   "cell_type": "code",
   "execution_count": 149,
   "id": "4dbc9039a23bbecd",
   "metadata": {
    "ExecuteTime": {
     "end_time": "2024-03-25T15:59:29.058989300Z",
     "start_time": "2024-03-25T15:59:28.967357800Z"
    },
    "collapsed": false
   },
   "outputs": [
    {
     "name": "stdout",
     "output_type": "stream",
     "text": [
      "<class 'pandas.core.frame.DataFrame'>\n",
      "RangeIndex: 5 entries, 0 to 4\n",
      "Data columns (total 1 columns):\n",
      " #   Column                   Non-Null Count  Dtype \n",
      "---  ------                   --------------  ----- \n",
      " 0   Наименование поставщика  5 non-null      object\n",
      "dtypes: object(1)\n",
      "memory usage: 172.0+ bytes\n"
     ]
    }
   ],
   "source": [
    "dt_providers.info()"
   ]
  },
  {
   "cell_type": "code",
   "execution_count": 150,
   "id": "45d90fb5b40e2ef5",
   "metadata": {
    "ExecuteTime": {
     "end_time": "2024-03-25T15:59:29.167566600Z",
     "start_time": "2024-03-25T15:59:28.989509600Z"
    },
    "collapsed": false
   },
   "outputs": [
    {
     "data": {
      "text/html": [
       "<div>\n",
       "<style scoped>\n",
       "    .dataframe tbody tr th:only-of-type {\n",
       "        vertical-align: middle;\n",
       "    }\n",
       "\n",
       "    .dataframe tbody tr th {\n",
       "        vertical-align: top;\n",
       "    }\n",
       "\n",
       "    .dataframe thead th {\n",
       "        text-align: right;\n",
       "    }\n",
       "</style>\n",
       "<table border=\"1\" class=\"dataframe\">\n",
       "  <thead>\n",
       "    <tr style=\"text-align: right;\">\n",
       "      <th></th>\n",
       "      <th>Наименование поставщика</th>\n",
       "    </tr>\n",
       "  </thead>\n",
       "  <tbody>\n",
       "    <tr>\n",
       "      <th>count</th>\n",
       "      <td>5</td>\n",
       "    </tr>\n",
       "    <tr>\n",
       "      <th>unique</th>\n",
       "      <td>5</td>\n",
       "    </tr>\n",
       "    <tr>\n",
       "      <th>top</th>\n",
       "      <td>Young-Beard</td>\n",
       "    </tr>\n",
       "    <tr>\n",
       "      <th>freq</th>\n",
       "      <td>1</td>\n",
       "    </tr>\n",
       "  </tbody>\n",
       "</table>\n",
       "</div>"
      ],
      "text/plain": [
       "       Наименование поставщика\n",
       "count                        5\n",
       "unique                       5\n",
       "top                Young-Beard\n",
       "freq                         1"
      ]
     },
     "execution_count": 150,
     "metadata": {},
     "output_type": "execute_result"
    }
   ],
   "source": [
    "dt_providers.describe()"
   ]
  },
  {
   "cell_type": "markdown",
   "id": "de53ca693f5ef2e2",
   "metadata": {
    "collapsed": false
   },
   "source": [
    "<h3>Анализ данных типов еды</h3>"
   ]
  },
  {
   "cell_type": "code",
   "execution_count": 151,
   "id": "3e317ff2d3419e12",
   "metadata": {
    "ExecuteTime": {
     "end_time": "2024-03-25T15:59:29.171634Z",
     "start_time": "2024-03-25T15:59:29.015118Z"
    },
    "collapsed": false
   },
   "outputs": [
    {
     "name": "stdout",
     "output_type": "stream",
     "text": [
      "<class 'pandas.core.frame.DataFrame'>\n",
      "RangeIndex: 5 entries, 0 to 4\n",
      "Data columns (total 1 columns):\n",
      " #   Column   Non-Null Count  Dtype \n",
      "---  ------   --------------  ----- \n",
      " 0   Тип еды  5 non-null      object\n",
      "dtypes: object(1)\n",
      "memory usage: 172.0+ bytes\n"
     ]
    }
   ],
   "source": [
    "dt_types.info()"
   ]
  },
  {
   "cell_type": "code",
   "execution_count": 152,
   "id": "39da9acab5b4edb",
   "metadata": {
    "ExecuteTime": {
     "end_time": "2024-03-25T15:59:29.193374100Z",
     "start_time": "2024-03-25T15:59:29.040325700Z"
    },
    "collapsed": false
   },
   "outputs": [
    {
     "data": {
      "text/html": [
       "<div>\n",
       "<style scoped>\n",
       "    .dataframe tbody tr th:only-of-type {\n",
       "        vertical-align: middle;\n",
       "    }\n",
       "\n",
       "    .dataframe tbody tr th {\n",
       "        vertical-align: top;\n",
       "    }\n",
       "\n",
       "    .dataframe thead th {\n",
       "        text-align: right;\n",
       "    }\n",
       "</style>\n",
       "<table border=\"1\" class=\"dataframe\">\n",
       "  <thead>\n",
       "    <tr style=\"text-align: right;\">\n",
       "      <th></th>\n",
       "      <th>Тип еды</th>\n",
       "    </tr>\n",
       "  </thead>\n",
       "  <tbody>\n",
       "    <tr>\n",
       "      <th>count</th>\n",
       "      <td>5</td>\n",
       "    </tr>\n",
       "    <tr>\n",
       "      <th>unique</th>\n",
       "      <td>5</td>\n",
       "    </tr>\n",
       "    <tr>\n",
       "      <th>top</th>\n",
       "      <td>Higgins, Hayden and Kelly</td>\n",
       "    </tr>\n",
       "    <tr>\n",
       "      <th>freq</th>\n",
       "      <td>1</td>\n",
       "    </tr>\n",
       "  </tbody>\n",
       "</table>\n",
       "</div>"
      ],
      "text/plain": [
       "                          Тип еды\n",
       "count                           5\n",
       "unique                          5\n",
       "top     Higgins, Hayden and Kelly\n",
       "freq                            1"
      ]
     },
     "execution_count": 152,
     "metadata": {},
     "output_type": "execute_result"
    }
   ],
   "source": [
    "dt_types.describe()"
   ]
  },
  {
   "cell_type": "markdown",
   "id": "853778715e0045a5",
   "metadata": {
    "collapsed": false
   },
   "source": [
    "<h3>Получение и анализ данных еды</h3>"
   ]
  },
  {
   "cell_type": "code",
   "execution_count": 153,
   "id": "835b71ea46ac4f55",
   "metadata": {
    "ExecuteTime": {
     "end_time": "2024-03-25T15:59:29.259246Z",
     "start_time": "2024-03-25T15:59:29.061658200Z"
    },
    "collapsed": false
   },
   "outputs": [],
   "source": [
    "dt_foods = pd.read_excel(\"C:/Users/ab54/Desktop/data/Food.xlsx\")"
   ]
  },
  {
   "cell_type": "code",
   "execution_count": 154,
   "id": "4c85ff39c5e8911a",
   "metadata": {
    "ExecuteTime": {
     "end_time": "2024-03-25T15:59:29.261767300Z",
     "start_time": "2024-03-25T15:59:29.099963800Z"
    },
    "collapsed": false
   },
   "outputs": [
    {
     "name": "stdout",
     "output_type": "stream",
     "text": [
      "<class 'pandas.core.frame.DataFrame'>\n",
      "RangeIndex: 25 entries, 0 to 24\n",
      "Data columns (total 2 columns):\n",
      " #   Column        Non-Null Count  Dtype \n",
      "---  ------        --------------  ----- \n",
      " 0   Тип еды       25 non-null     int64 \n",
      " 1   Наименование  25 non-null     object\n",
      "dtypes: int64(1), object(1)\n",
      "memory usage: 532.0+ bytes\n"
     ]
    }
   ],
   "source": [
    "dt_foods.info()"
   ]
  },
  {
   "cell_type": "code",
   "execution_count": 155,
   "id": "fb3531f91c29556",
   "metadata": {
    "ExecuteTime": {
     "end_time": "2024-03-25T15:59:29.426470800Z",
     "start_time": "2024-03-25T15:59:29.115733100Z"
    },
    "collapsed": false
   },
   "outputs": [
    {
     "data": {
      "text/html": [
       "<div>\n",
       "<style scoped>\n",
       "    .dataframe tbody tr th:only-of-type {\n",
       "        vertical-align: middle;\n",
       "    }\n",
       "\n",
       "    .dataframe tbody tr th {\n",
       "        vertical-align: top;\n",
       "    }\n",
       "\n",
       "    .dataframe thead th {\n",
       "        text-align: right;\n",
       "    }\n",
       "</style>\n",
       "<table border=\"1\" class=\"dataframe\">\n",
       "  <thead>\n",
       "    <tr style=\"text-align: right;\">\n",
       "      <th></th>\n",
       "      <th>Тип еды</th>\n",
       "    </tr>\n",
       "  </thead>\n",
       "  <tbody>\n",
       "    <tr>\n",
       "      <th>count</th>\n",
       "      <td>25.000000</td>\n",
       "    </tr>\n",
       "    <tr>\n",
       "      <th>mean</th>\n",
       "      <td>2.000000</td>\n",
       "    </tr>\n",
       "    <tr>\n",
       "      <th>std</th>\n",
       "      <td>1.443376</td>\n",
       "    </tr>\n",
       "    <tr>\n",
       "      <th>min</th>\n",
       "      <td>0.000000</td>\n",
       "    </tr>\n",
       "    <tr>\n",
       "      <th>25%</th>\n",
       "      <td>1.000000</td>\n",
       "    </tr>\n",
       "    <tr>\n",
       "      <th>50%</th>\n",
       "      <td>2.000000</td>\n",
       "    </tr>\n",
       "    <tr>\n",
       "      <th>75%</th>\n",
       "      <td>3.000000</td>\n",
       "    </tr>\n",
       "    <tr>\n",
       "      <th>max</th>\n",
       "      <td>4.000000</td>\n",
       "    </tr>\n",
       "  </tbody>\n",
       "</table>\n",
       "</div>"
      ],
      "text/plain": [
       "         Тип еды\n",
       "count  25.000000\n",
       "mean    2.000000\n",
       "std     1.443376\n",
       "min     0.000000\n",
       "25%     1.000000\n",
       "50%     2.000000\n",
       "75%     3.000000\n",
       "max     4.000000"
      ]
     },
     "execution_count": 155,
     "metadata": {},
     "output_type": "execute_result"
    }
   ],
   "source": [
    "dt_foods.describe()"
   ]
  },
  {
   "cell_type": "markdown",
   "id": "c49506ee7075f801",
   "metadata": {
    "collapsed": false
   },
   "source": [
    "<h1>Работа с БД</h1>"
   ]
  },
  {
   "cell_type": "markdown",
   "id": "261dfa87c5b27793",
   "metadata": {
    "collapsed": false
   },
   "source": [
    "<h2>Подготовка данных к внесению</h2>"
   ]
  },
  {
   "cell_type": "markdown",
   "id": "6e3a67dd1204165a",
   "metadata": {
    "collapsed": false
   },
   "source": [
    "<h3>Создание id</h3>"
   ]
  },
  {
   "cell_type": "code",
   "execution_count": 158,
   "id": "4b920f276cbee15c",
   "metadata": {
    "ExecuteTime": {
     "end_time": "2024-03-25T16:14:09.447686Z",
     "start_time": "2024-03-25T16:14:09.353647200Z"
    },
    "collapsed": false
   },
   "outputs": [],
   "source": [
    "id_zooparks = [i for i in range(0, len(dt_zooparks))]\n",
    "id_providers = [i for i in range(0, len(dt_providers))]\n",
    "id_types = [i for i in range(0, len(dt_types))]\n",
    "id_food = [i for i in range(0, len(dt_foods))]"
   ]
  },
  {
   "cell_type": "markdown",
   "id": "f83999db60a26f40",
   "metadata": {
    "collapsed": false
   },
   "source": [
    "<h3>Приводим данные к виду наших таблиц</h3>"
   ]
  },
  {
   "cell_type": "code",
   "execution_count": 159,
   "id": "d8830986ee43f87a",
   "metadata": {
    "ExecuteTime": {
     "end_time": "2024-03-25T16:17:19.778005900Z",
     "start_time": "2024-03-25T16:17:19.717088Z"
    },
    "collapsed": false
   },
   "outputs": [],
   "source": [
    "df_zooparks = pd.DataFrame({'id': id_zooparks, 'name': dt_zooparks['Наименование зоопарка'], 'country': dt_zooparks['Страна'], 'city': dt_zooparks['Город']})\n",
    "df_providers = pd.DataFrame({'id': id_providers, 'name': dt_providers['Наименование поставщика']})\n",
    "df_types = pd.DataFrame({'id': id_types, 'name': dt_types['Тип еды']})\n",
    "df_foods = pd.DataFrame({'id': id_food, 'type_of_food': dt_foods['Тип еды'], 'name': dt_foods['Наименование']})"
   ]
  },
  {
   "cell_type": "markdown",
   "id": "ad7c73c2d95c2fc4",
   "metadata": {
    "collapsed": false
   },
   "source": [
    "<h2>Открываем скрипт создания БД</h2>"
   ]
  },
  {
   "cell_type": "code",
   "execution_count": 163,
   "id": "8c66314e09bb9580",
   "metadata": {
    "ExecuteTime": {
     "end_time": "2024-03-25T16:24:14.344146600Z",
     "start_time": "2024-03-25T16:24:14.312950600Z"
    },
    "collapsed": false
   },
   "outputs": [],
   "source": [
    "with open(\"C:/Users/ab54/Desktop/data/Create_zoo_script.txt\", 'r', encoding='utf-8') as file:\n",
    "    sql_create_script = file.read()"
   ]
  },
  {
   "cell_type": "markdown",
   "id": "10ab48c15b47267a",
   "metadata": {
    "collapsed": false
   },
   "source": [
    "<h2>Создаём подключение</h2>"
   ]
  },
  {
   "cell_type": "code",
   "execution_count": 183,
   "id": "2aa03a6cd24f6457",
   "metadata": {
    "ExecuteTime": {
     "end_time": "2024-03-26T17:34:26.472815800Z",
     "start_time": "2024-03-26T17:34:26.338996600Z"
    },
    "collapsed": false
   },
   "outputs": [],
   "source": [
    "connection = psql.connect(\n",
    "    dbname=\"zooparkdb\",\n",
    "    user=\"postgres\",\n",
    "    password=\"postgres\",\n",
    "    host=\"localhost\",\n",
    ")\n",
    "cursor = connection.cursor()"
   ]
  },
  {
   "cell_type": "markdown",
   "id": "f9aa883cf1b24a98",
   "metadata": {
    "collapsed": false
   },
   "source": [
    "<h2>Создаём БД</h2>"
   ]
  },
  {
   "cell_type": "code",
   "execution_count": 184,
   "id": "dcb3460d44528a86",
   "metadata": {
    "ExecuteTime": {
     "end_time": "2024-03-26T17:34:29.194199300Z",
     "start_time": "2024-03-26T17:34:28.114116900Z"
    },
    "collapsed": false
   },
   "outputs": [],
   "source": [
    "cursor.execute(sql_create_script)\n",
    "connection.commit()"
   ]
  },
  {
   "cell_type": "markdown",
   "id": "daaac91a776f939",
   "metadata": {
    "collapsed": false
   },
   "source": [
    "<h2>Внесение данных в БД</h2>"
   ]
  },
  {
   "cell_type": "markdown",
   "id": "b62edb57b063f903",
   "metadata": {
    "collapsed": false
   },
   "source": [
    "<h3>Внесение данных в таблицу зоопарки</h3>"
   ]
  },
  {
   "cell_type": "code",
   "execution_count": 185,
   "id": "b5a89fd599ff0178",
   "metadata": {
    "ExecuteTime": {
     "end_time": "2024-03-26T17:34:32.586215400Z",
     "start_time": "2024-03-26T17:34:32.535390Z"
    },
    "collapsed": false
   },
   "outputs": [],
   "source": [
    "for index, row in df_zooparks.iterrows():\n",
    "    query = 'INSERT INTO zoo.zoo(id, name, country, city) VALUES (%s, %s, %s, %s)'\n",
    "    cursor.execute(query, (row['id'], row['name'], row['country'], row['city']))"
   ]
  },
  {
   "cell_type": "markdown",
   "id": "55796ef97c6a651b",
   "metadata": {
    "collapsed": false
   },
   "source": [
    "<h3>Внесение данных в таблицу поставщиков</h3>"
   ]
  },
  {
   "cell_type": "code",
   "execution_count": 186,
   "id": "2eb2edda85f4dda7",
   "metadata": {
    "ExecuteTime": {
     "end_time": "2024-03-26T17:39:59.220984800Z",
     "start_time": "2024-03-26T17:39:58.354624200Z"
    },
    "collapsed": false
   },
   "outputs": [],
   "source": [
    "for index, row in df_providers.iterrows():\n",
    "    query = 'INSERT INTO zoo.provider(id, name) VALUES (%s, %s)'\n",
    "    cursor.execute(query, (row['id'], row['name']))"
   ]
  },
  {
   "cell_type": "markdown",
   "id": "16063aeaa9427801",
   "metadata": {
    "collapsed": false
   },
   "source": [
    "<h3>Внесение данных в таблицу типы еды</h3>"
   ]
  },
  {
   "cell_type": "code",
   "execution_count": 188,
   "id": "8112e0d2bc0c7f9c",
   "metadata": {
    "ExecuteTime": {
     "end_time": "2024-03-26T18:24:08.608884800Z",
     "start_time": "2024-03-26T18:24:07.729105100Z"
    },
    "collapsed": false
   },
   "outputs": [],
   "source": [
    "for index, row in df_types.iterrows():\n",
    "    query = 'INSERT INTO zoo.food_type(id, name) VALUES (%s, %s)'\n",
    "    cursor.execute(query, (row['id'], row['name']))"
   ]
  },
  {
   "cell_type": "markdown",
   "id": "25c911d52a513c0a",
   "metadata": {
    "collapsed": false
   },
   "source": [
    "<h3>Внесение данных в таблицу еда</h3>"
   ]
  },
  {
   "cell_type": "code",
   "execution_count": 189,
   "id": "93df1120c9101858",
   "metadata": {
    "ExecuteTime": {
     "end_time": "2024-03-26T18:27:24.474101300Z",
     "start_time": "2024-03-26T18:27:24.306626700Z"
    },
    "collapsed": false
   },
   "outputs": [],
   "source": [
    "for index, row in df_foods.iterrows():\n",
    "    query = 'INSERT INTO zoo.food(id, type_id, name) VALUES (%s, %s, %s)'\n",
    "    cursor.execute(query, (row['id'], row['type_of_food'], row['name']))"
   ]
  },
  {
   "cell_type": "markdown",
   "id": "24fe794c69876a90",
   "metadata": {
    "collapsed": false
   },
   "source": [
    "<h2>Проверка внесённых данных</h2>"
   ]
  },
  {
   "cell_type": "markdown",
   "id": "26c98f7e0f111578",
   "metadata": {
    "collapsed": false
   },
   "source": [
    "<h3>Проверка внесённых данных в таблицу зоопарки</h3>"
   ]
  },
  {
   "cell_type": "code",
   "execution_count": 190,
   "id": "30f181340ec08314",
   "metadata": {
    "ExecuteTime": {
     "end_time": "2024-03-26T18:33:06.362505500Z",
     "start_time": "2024-03-26T18:33:06.254875900Z"
    },
    "collapsed": false
   },
   "outputs": [
    {
     "name": "stdout",
     "output_type": "stream",
     "text": [
      "   id                       name                    country  \\\n",
      "0   0                 Garcia-Lee                 Azerbaijan   \n",
      "1   1             Fields-Alvarez                    Jamaica   \n",
      "2   2     Gould, Miller and Ross                    Belgium   \n",
      "3   3  Johnson, Green and Wilson               Sierra Leone   \n",
      "4   4              Nguyen-Foster                       Togo   \n",
      "5   5               Reynolds LLC                  Sri Lanka   \n",
      "6   6            Zimmerman-Bauer               Saint Helena   \n",
      "7   7   Smith, Lane and Martinez  Bouvet Island (Bouvetoya)   \n",
      "8   8                   Rose Ltd                      Benin   \n",
      "9   9                Farrell PLC      Saint Kitts and Nevis   \n",
      "\n",
      "                   city  \n",
      "0              Loribury  \n",
      "1            Hoffmanton  \n",
      "2             Grantport  \n",
      "3            Crystalton  \n",
      "4        East Bobbyview  \n",
      "5          Priscillaton  \n",
      "6          Matthewshire  \n",
      "7  South Deborahchester  \n",
      "8       Patriciaborough  \n",
      "9             Davisport  \n",
      "(0, 'Garcia-Lee', 'Azerbaijan', 'Loribury')\n",
      "(1, 'Fields-Alvarez', 'Jamaica', 'Hoffmanton')\n",
      "(2, 'Gould, Miller and Ross', 'Belgium', 'Grantport')\n",
      "(3, 'Johnson, Green and Wilson', 'Sierra Leone', 'Crystalton')\n",
      "(4, 'Nguyen-Foster', 'Togo', 'East Bobbyview')\n",
      "(5, 'Reynolds LLC', 'Sri Lanka', 'Priscillaton')\n",
      "(6, 'Zimmerman-Bauer', 'Saint Helena', 'Matthewshire')\n",
      "(7, 'Smith, Lane and Martinez', 'Bouvet Island (Bouvetoya)', 'South Deborahchester')\n",
      "(8, 'Rose Ltd', 'Benin', 'Patriciaborough')\n",
      "(9, 'Farrell PLC', 'Saint Kitts and Nevis', 'Davisport')\n"
     ]
    }
   ],
   "source": [
    "print(df_zooparks)\n",
    "query = 'SELECT * FROM zoo.zoo'\n",
    "cursor.execute(query)\n",
    "table = cursor.fetchall()\n",
    "for row in table:\n",
    "    print(row)"
   ]
  },
  {
   "cell_type": "markdown",
   "id": "4a0b3761a392bad5",
   "metadata": {
    "collapsed": false
   },
   "source": [
    "Данные приведённые сверху показывают, что данные внесенны в нашу базу данных успешно, без потери строк и пропуска данных"
   ]
  },
  {
   "cell_type": "markdown",
   "id": "f16358b04e11fe5a",
   "metadata": {
    "collapsed": false
   },
   "source": [
    "<h2>Завершение работы с БД</h2>"
   ]
  },
  {
   "cell_type": "code",
   "execution_count": 194,
   "id": "f8faac0469b9d99f",
   "metadata": {
    "ExecuteTime": {
     "end_time": "2024-03-26T18:46:25.728429800Z",
     "start_time": "2024-03-26T18:46:25.513329300Z"
    },
    "collapsed": false
   },
   "outputs": [],
   "source": [
    "cursor.close()\n",
    "connection.close()"
   ]
  }
 ],
 "metadata": {
  "kernelspec": {
   "display_name": "Python 3",
   "language": "python",
   "name": "python3"
  },
  "language_info": {
   "codemirror_mode": {
    "name": "ipython",
    "version": 2
   },
   "file_extension": ".py",
   "mimetype": "text/x-python",
   "name": "python",
   "nbconvert_exporter": "python",
   "pygments_lexer": "ipython2",
   "version": "2.7.6"
  }
 },
 "nbformat": 4,
 "nbformat_minor": 5
}
